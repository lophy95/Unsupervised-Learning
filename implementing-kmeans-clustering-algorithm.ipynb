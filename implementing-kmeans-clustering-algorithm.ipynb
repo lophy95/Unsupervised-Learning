{
 "cells": [
  {
   "cell_type": "markdown",
   "id": "00500a65",
   "metadata": {
    "id": "2G-aa9eeN-Hv",
    "papermill": {
     "duration": 0.024182,
     "end_time": "2021-12-27T05:52:11.872415",
     "exception": false,
     "start_time": "2021-12-27T05:52:11.848233",
     "status": "completed"
    },
    "tags": []
   },
   "source": [
    "# Clustering \n",
    "Clustering is a set of techniques used to partition data into groups, or clusters. Clusters are loosely defined as groups of data objects that are more similar to other objects in their cluster than they are to data objects in other clusters. \n",
    "\n",
    "\n",
    "Many clustering algorithms are available in Scikit-Learn and elsewhere, but perhaps the simplest to understand is an algorithm known as k-means clustering, which is implemented in `sklearn.cluster.KMeans`.\n",
    "\n",
    "We begin with the standard imports:"
   ]
  },
  {
   "cell_type": "code",
   "execution_count": 1,
   "id": "e00e3bba",
   "metadata": {
    "execution": {
     "iopub.execute_input": "2021-12-27T05:52:11.928496Z",
     "iopub.status.busy": "2021-12-27T05:52:11.927853Z",
     "iopub.status.idle": "2021-12-27T05:52:11.932503Z",
     "shell.execute_reply": "2021-12-27T05:52:11.931444Z",
     "shell.execute_reply.started": "2021-12-27T05:51:21.962618Z"
    },
    "id": "sxpt7kANJLXA",
    "papermill": {
     "duration": 0.036584,
     "end_time": "2021-12-27T05:52:11.932678",
     "exception": false,
     "start_time": "2021-12-27T05:52:11.896094",
     "status": "completed"
    },
    "tags": []
   },
   "outputs": [],
   "source": [
    "import matplotlib.pyplot as plt"
   ]
  },
  {
   "cell_type": "markdown",
   "id": "e0cfc154",
   "metadata": {
    "id": "cyn7SM6xONdV",
    "papermill": {
     "duration": 0.022922,
     "end_time": "2021-12-27T05:52:11.978781",
     "exception": false,
     "start_time": "2021-12-27T05:52:11.955859",
     "status": "completed"
    },
    "tags": []
   },
   "source": [
    "# K-Means Clustering Algorithm\n",
    "The k-means algorithm searches for a pre-determined number of clusters within an unlabeled multidimensional dataset. It accomplishes this using a simple conception of what the optimal clustering looks like.\n",
    "\n",
    "The \"cluster center\" is the arithmetic mean of all the points belonging to the cluster.\n",
    "Each point is closer to its own cluster center than to other cluster centers."
   ]
  },
  {
   "cell_type": "markdown",
   "id": "fd241f89",
   "metadata": {
    "id": "_48A7NNyZIbd",
    "papermill": {
     "duration": 0.023824,
     "end_time": "2021-12-27T05:52:12.025662",
     "exception": false,
     "start_time": "2021-12-27T05:52:12.001838",
     "status": "completed"
    },
    "tags": []
   },
   "source": [
    "## Working\n",
    "Conventional k-means requires only a few steps. The first step is to randomly select k centroids, where k is equal to the number of clusters you choose. Centroids are data points representing the center of a cluster.\n",
    "\n",
    "The main element of the algorithm works by a two-step process called expectation-maximization. The expectation step assigns each data point to its nearest centroid. Then, the maximization step computes the mean of all the points for each cluster and sets the new centroid. Here’s what the conventional version of the k-means algorithm looks like:\n",
    "\n",
    "![](https://files.realpython.com/media/kmeans-algorithm.a94498a7ecd2.png)"
   ]
  },
  {
   "cell_type": "markdown",
   "id": "d900ba75",
   "metadata": {
    "id": "GetcuQqCaB1s",
    "papermill": {
     "duration": 0.022894,
     "end_time": "2021-12-27T05:52:12.071913",
     "exception": false,
     "start_time": "2021-12-27T05:52:12.049019",
     "status": "completed"
    },
    "tags": []
   },
   "source": [
    "### Imports for implementing K-Means Clustering\n"
   ]
  },
  {
   "cell_type": "code",
   "execution_count": 2,
   "id": "a8387875",
   "metadata": {
    "execution": {
     "iopub.execute_input": "2021-12-27T05:52:12.125071Z",
     "iopub.status.busy": "2021-12-27T05:52:12.124220Z",
     "iopub.status.idle": "2021-12-27T05:52:22.851064Z",
     "shell.execute_reply": "2021-12-27T05:52:22.850382Z",
     "shell.execute_reply.started": "2021-12-27T05:51:21.992826Z"
    },
    "id": "eru4p-Onbiaw",
    "outputId": "f4fcce76-79d0-463b-9c46-4d4cb9c266cf",
    "papermill": {
     "duration": 10.755957,
     "end_time": "2021-12-27T05:52:22.851214",
     "exception": false,
     "start_time": "2021-12-27T05:52:12.095257",
     "status": "completed"
    },
    "tags": []
   },
   "outputs": [
    {
     "name": "stdout",
     "output_type": "stream",
     "text": [
      "Collecting kneed\r\n",
      "  Downloading kneed-0.7.0-py2.py3-none-any.whl (9.4 kB)\r\n",
      "Requirement already satisfied: matplotlib in /opt/conda/lib/python3.7/site-packages (from kneed) (3.5.0)\r\n",
      "Requirement already satisfied: numpy>=1.14.2 in /opt/conda/lib/python3.7/site-packages (from kneed) (1.19.5)\r\n",
      "Requirement already satisfied: scipy in /opt/conda/lib/python3.7/site-packages (from kneed) (1.7.2)\r\n",
      "Requirement already satisfied: pillow>=6.2.0 in /opt/conda/lib/python3.7/site-packages (from matplotlib->kneed) (8.2.0)\r\n",
      "Requirement already satisfied: kiwisolver>=1.0.1 in /opt/conda/lib/python3.7/site-packages (from matplotlib->kneed) (1.3.2)\r\n",
      "Requirement already satisfied: fonttools>=4.22.0 in /opt/conda/lib/python3.7/site-packages (from matplotlib->kneed) (4.28.2)\r\n",
      "Requirement already satisfied: setuptools-scm>=4 in /opt/conda/lib/python3.7/site-packages (from matplotlib->kneed) (6.3.2)\r\n",
      "Requirement already satisfied: python-dateutil>=2.7 in /opt/conda/lib/python3.7/site-packages (from matplotlib->kneed) (2.8.0)\r\n",
      "Requirement already satisfied: pyparsing>=2.2.1 in /opt/conda/lib/python3.7/site-packages (from matplotlib->kneed) (3.0.6)\r\n",
      "Requirement already satisfied: packaging>=20.0 in /opt/conda/lib/python3.7/site-packages (from matplotlib->kneed) (21.0)\r\n",
      "Requirement already satisfied: cycler>=0.10 in /opt/conda/lib/python3.7/site-packages (from matplotlib->kneed) (0.11.0)\r\n",
      "Requirement already satisfied: six>=1.5 in /opt/conda/lib/python3.7/site-packages (from python-dateutil>=2.7->matplotlib->kneed) (1.16.0)\r\n",
      "Requirement already satisfied: tomli>=1.0.0 in /opt/conda/lib/python3.7/site-packages (from setuptools-scm>=4->matplotlib->kneed) (1.2.2)\r\n",
      "Requirement already satisfied: setuptools in /opt/conda/lib/python3.7/site-packages (from setuptools-scm>=4->matplotlib->kneed) (59.1.1)\r\n",
      "Installing collected packages: kneed\r\n",
      "Successfully installed kneed-0.7.0\r\n",
      "\u001b[33mWARNING: Running pip as the 'root' user can result in broken permissions and conflicting behaviour with the system package manager. It is recommended to use a virtual environment instead: https://pip.pypa.io/warnings/venv\u001b[0m\r\n"
     ]
    }
   ],
   "source": [
    "!pip install kneed"
   ]
  },
  {
   "cell_type": "code",
   "execution_count": 3,
   "id": "9c279451",
   "metadata": {
    "execution": {
     "iopub.execute_input": "2021-12-27T05:52:22.911557Z",
     "iopub.status.busy": "2021-12-27T05:52:22.910551Z",
     "iopub.status.idle": "2021-12-27T05:52:24.355328Z",
     "shell.execute_reply": "2021-12-27T05:52:24.355826Z",
     "shell.execute_reply.started": "2021-12-27T05:51:33.145069Z"
    },
    "id": "BohkpYv7aHRL",
    "papermill": {
     "duration": 1.478386,
     "end_time": "2021-12-27T05:52:24.356029",
     "exception": false,
     "start_time": "2021-12-27T05:52:22.877643",
     "status": "completed"
    },
    "tags": []
   },
   "outputs": [],
   "source": [
    "from kneed import KneeLocator\n",
    "from sklearn.datasets import make_blobs\n",
    "from sklearn.cluster import KMeans\n",
    "from sklearn.preprocessing import StandardScaler"
   ]
  },
  {
   "cell_type": "markdown",
   "id": "ba7b7ccf",
   "metadata": {
    "id": "bPaVdQFOaPj_",
    "papermill": {
     "duration": 0.025238,
     "end_time": "2021-12-27T05:52:24.407335",
     "exception": false,
     "start_time": "2021-12-27T05:52:24.382097",
     "status": "completed"
    },
    "tags": []
   },
   "source": [
    "First, let's generate a two-dimensional dataset containing four distinct blobs. \n",
    "\n",
    "make_blobs() is a convenience function in scikit-learn used to generate synthetic clusters. It uses these parameters:\n",
    "\n",
    "* n_samples is the total number of samples to generate.\n",
    "* centers is the number of centers to generate.\n",
    "* cluster_std is the standard deviation.\n",
    "\n",
    "Nondeterministic machine learning algorithms like k-means are difficult to reproduce. The random_state parameter is set to an integer value so you can follow the data presented in the tutorial.\n",
    "\n",
    "make_blobs() returns a tuple of two values:\n",
    "\n",
    "* A two-dimensional NumPy array with the x- and y-values for each of the samples\n",
    "* A one-dimensional NumPy array containing the cluster labels for each sample"
   ]
  },
  {
   "cell_type": "code",
   "execution_count": 4,
   "id": "41f5b84c",
   "metadata": {
    "execution": {
     "iopub.execute_input": "2021-12-27T05:52:24.467588Z",
     "iopub.status.busy": "2021-12-27T05:52:24.462230Z",
     "iopub.status.idle": "2021-12-27T05:52:24.469419Z",
     "shell.execute_reply": "2021-12-27T05:52:24.469931Z",
     "shell.execute_reply.started": "2021-12-27T05:51:34.752098Z"
    },
    "id": "llFV4Cr9atJQ",
    "papermill": {
     "duration": 0.036188,
     "end_time": "2021-12-27T05:52:24.470103",
     "exception": false,
     "start_time": "2021-12-27T05:52:24.433915",
     "status": "completed"
    },
    "tags": []
   },
   "outputs": [],
   "source": [
    "features, true_labels = make_blobs(\n",
    "    n_samples=300,\n",
    "    centers=4,\n",
    "    cluster_std=0.60,\n",
    "    random_state=0\n",
    ")"
   ]
  },
  {
   "cell_type": "markdown",
   "id": "94ac6eb0",
   "metadata": {
    "id": "1NYbcyd9a_2F",
    "papermill": {
     "duration": 0.025328,
     "end_time": "2021-12-27T05:52:24.521092",
     "exception": false,
     "start_time": "2021-12-27T05:52:24.495764",
     "status": "completed"
    },
    "tags": []
   },
   "source": [
    "Here’s a look at the first five elements for each of the variables returned by make_blobs():"
   ]
  },
  {
   "cell_type": "code",
   "execution_count": 5,
   "id": "3f01e1da",
   "metadata": {
    "execution": {
     "iopub.execute_input": "2021-12-27T05:52:24.575955Z",
     "iopub.status.busy": "2021-12-27T05:52:24.575254Z",
     "iopub.status.idle": "2021-12-27T05:52:24.583397Z",
     "shell.execute_reply": "2021-12-27T05:52:24.583932Z",
     "shell.execute_reply.started": "2021-12-27T05:51:34.763390Z"
    },
    "id": "XjGFs2iUbKUP",
    "outputId": "0b5be386-91aa-4b9a-ed53-2a06b008e2d0",
    "papermill": {
     "duration": 0.03735,
     "end_time": "2021-12-27T05:52:24.584105",
     "exception": false,
     "start_time": "2021-12-27T05:52:24.546755",
     "status": "completed"
    },
    "tags": []
   },
   "outputs": [
    {
     "data": {
      "text/plain": [
       "array([[ 0.83685684,  2.13635938],\n",
       "       [-1.4136581 ,  7.40962324],\n",
       "       [ 1.15521298,  5.09961887],\n",
       "       [-1.01861632,  7.81491465],\n",
       "       [ 1.27135141,  1.89254207]])"
      ]
     },
     "execution_count": 5,
     "metadata": {},
     "output_type": "execute_result"
    }
   ],
   "source": [
    "features[:5]"
   ]
  },
  {
   "cell_type": "code",
   "execution_count": 6,
   "id": "0b036460",
   "metadata": {
    "execution": {
     "iopub.execute_input": "2021-12-27T05:52:24.643538Z",
     "iopub.status.busy": "2021-12-27T05:52:24.642826Z",
     "iopub.status.idle": "2021-12-27T05:52:24.646349Z",
     "shell.execute_reply": "2021-12-27T05:52:24.646893Z",
     "shell.execute_reply.started": "2021-12-27T05:51:34.782178Z"
    },
    "id": "WkK6GMBTbcQ-",
    "outputId": "c77b043a-bf91-4316-9c89-5ebafac6aae4",
    "papermill": {
     "duration": 0.035554,
     "end_time": "2021-12-27T05:52:24.647064",
     "exception": false,
     "start_time": "2021-12-27T05:52:24.611510",
     "status": "completed"
    },
    "tags": []
   },
   "outputs": [
    {
     "data": {
      "text/plain": [
       "array([1, 3, 0, 3, 1])"
      ]
     },
     "execution_count": 6,
     "metadata": {},
     "output_type": "execute_result"
    }
   ],
   "source": [
    "true_labels[:5]"
   ]
  },
  {
   "cell_type": "markdown",
   "id": "bad37810",
   "metadata": {
    "id": "zqV6ysgfbzQf",
    "papermill": {
     "duration": 0.026373,
     "end_time": "2021-12-27T05:52:24.699716",
     "exception": false,
     "start_time": "2021-12-27T05:52:24.673343",
     "status": "completed"
    },
    "tags": []
   },
   "source": [
    "The dataset is actually labeled and true_labels represents the labels of each data point. However, to emphasize that this is an unsupervised algorithm, we will leave the labels out of the visualization."
   ]
  },
  {
   "cell_type": "markdown",
   "id": "71bef409",
   "metadata": {
    "id": "8zaY_L3Bd6n0",
    "papermill": {
     "duration": 0.026967,
     "end_time": "2021-12-27T05:52:24.753281",
     "exception": false,
     "start_time": "2021-12-27T05:52:24.726314",
     "status": "completed"
    },
    "tags": []
   },
   "source": [
    "Let's visualize the data using a scatter plot"
   ]
  },
  {
   "cell_type": "code",
   "execution_count": 7,
   "id": "a03f5c49",
   "metadata": {
    "execution": {
     "iopub.execute_input": "2021-12-27T05:52:24.810583Z",
     "iopub.status.busy": "2021-12-27T05:52:24.809856Z",
     "iopub.status.idle": "2021-12-27T05:52:25.073799Z",
     "shell.execute_reply": "2021-12-27T05:52:25.074537Z",
     "shell.execute_reply.started": "2021-12-27T05:51:34.796047Z"
    },
    "id": "ImWDoH8fbune",
    "outputId": "4938c194-7c70-4f66-93d7-9b341c149d5f",
    "papermill": {
     "duration": 0.294844,
     "end_time": "2021-12-27T05:52:25.074756",
     "exception": false,
     "start_time": "2021-12-27T05:52:24.779912",
     "status": "completed"
    },
    "tags": []
   },
   "outputs": [
    {
     "data": {
      "image/png": "[encoded data removed]",
      "text/plain": [
       "<Figure size 432x288 with 1 Axes>"
      ]
     },
     "metadata": {
      "needs_background": "light"
     },
     "output_type": "display_data"
    }
   ],
   "source": [
    "plt.scatter(features[:, 0], features[:, 1], s=50);"
   ]
  },
  {
   "cell_type": "markdown",
   "id": "ec26089b",
   "metadata": {
    "id": "oZ0Po241eVa3",
    "papermill": {
     "duration": 0.028529,
     "end_time": "2021-12-27T05:52:25.133311",
     "exception": false,
     "start_time": "2021-12-27T05:52:25.104782",
     "status": "completed"
    },
    "tags": []
   },
   "source": [
    "By eye, it is relatively easy to pick out the four clusters. "
   ]
  },
  {
   "cell_type": "markdown",
   "id": "f37f46b9",
   "metadata": {
    "id": "M5krJDxxeniW",
    "papermill": {
     "duration": 0.02866,
     "end_time": "2021-12-27T05:52:25.190455",
     "exception": false,
     "start_time": "2021-12-27T05:52:25.161795",
     "status": "completed"
    },
    "tags": []
   },
   "source": [
    "## Feature Scaling\n",
    "Data sets usually contain numerical features that have been measured in different units, such as height (in inches) and weight (in pounds). A machine learning algorithm would consider weight more important than height only because the values for weight are larger and have higher variability from person to person.\n",
    "\n",
    "Machine learning algorithms need to consider all features on an even playing field. That means the values for all features must be transformed to the same scale.\n",
    "\n",
    "The process of transforming numerical features to use the same scale is known as feature scaling. It’s an important data preprocessing step for most distance-based machine learning algorithms because it can have a significant impact on the performance of your algorithm.\n",
    "\n",
    "There are several approaches to implementing feature scaling. In this example, we’ll use the StandardScaler class. This class implements a type of feature scaling called standardization. Standardization scales, or shifts, the values for each numerical feature in your dataset so that the features have a mean of 0 and standard deviation of 1:"
   ]
  },
  {
   "cell_type": "code",
   "execution_count": 8,
   "id": "99ab73d3",
   "metadata": {
    "execution": {
     "iopub.execute_input": "2021-12-27T05:52:25.249929Z",
     "iopub.status.busy": "2021-12-27T05:52:25.249204Z",
     "iopub.status.idle": "2021-12-27T05:52:25.256171Z",
     "shell.execute_reply": "2021-12-27T05:52:25.256756Z",
     "shell.execute_reply.started": "2021-12-27T05:51:35.091102Z"
    },
    "id": "P8jeu3OgeBXC",
    "outputId": "c5140014-1a68-48ff-a904-3aa069da2fd4",
    "papermill": {
     "duration": 0.038002,
     "end_time": "2021-12-27T05:52:25.256948",
     "exception": false,
     "start_time": "2021-12-27T05:52:25.218946",
     "status": "completed"
    },
    "tags": []
   },
   "outputs": [
    {
     "data": {
      "text/plain": [
       "array([[ 0.51625508, -0.70722723],\n",
       "       [-0.86166376,  1.3290677 ],\n",
       "       [ 0.71117444,  0.43704896],\n",
       "       [-0.61979222,  1.48557283],\n",
       "       [ 0.78228231, -0.8013784 ]])"
      ]
     },
     "execution_count": 8,
     "metadata": {},
     "output_type": "execute_result"
    }
   ],
   "source": [
    "scaler = StandardScaler()\n",
    "X = scaler.fit_transform(features)\n",
    "X[:5]"
   ]
  },
  {
   "cell_type": "markdown",
   "id": "c0dcc14d",
   "metadata": {
    "id": "WfRfxn3sfFLU",
    "papermill": {
     "duration": 0.02783,
     "end_time": "2021-12-27T05:52:25.312444",
     "exception": false,
     "start_time": "2021-12-27T05:52:25.284614",
     "status": "completed"
    },
    "tags": []
   },
   "source": [
    "## Building a K-Means Model\n",
    "Now the data is ready to be clustered. The KMeans estimator class in scikit-learn is where you set the algorithm parameters before fitting the estimator to the data. The scikit-learn implementation is flexible, providing several parameters that can be tuned.\n",
    "\n",
    "Here are the parameters used in this example:\n",
    "\n",
    "* **init** controls the initialization technique. The standard version of the k-means algorithm is implemented by setting init to \"random\". Setting this to \"k-means++\" employs an advanced trick to speed up convergence, which you’ll use later.\n",
    "\n",
    "* **n_clusters** sets k for the clustering step. This is the **most important parameter for k-means**.\n",
    "\n",
    "* **n_init** sets the number of initializations to perform. This is important because two runs can converge on different cluster assignments. The default behavior for the scikit-learn algorithm is to perform ten k-means runs and return the results of the one with the lowest SSE.\n",
    "\n",
    "* **max_iter** sets the number of maximum iterations for each initialization of the k-means algorithm.\n",
    "\n",
    "Instantiate the KMeans class with the following arguments:"
   ]
  },
  {
   "cell_type": "code",
   "execution_count": 9,
   "id": "06c59bcf",
   "metadata": {
    "execution": {
     "iopub.execute_input": "2021-12-27T05:52:25.372096Z",
     "iopub.status.busy": "2021-12-27T05:52:25.371403Z",
     "iopub.status.idle": "2021-12-27T05:52:25.376132Z",
     "shell.execute_reply": "2021-12-27T05:52:25.375572Z",
     "shell.execute_reply.started": "2021-12-27T05:51:35.104878Z"
    },
    "id": "xDLmJxnUe3I5",
    "papermill": {
     "duration": 0.035914,
     "end_time": "2021-12-27T05:52:25.376279",
     "exception": false,
     "start_time": "2021-12-27T05:52:25.340365",
     "status": "completed"
    },
    "tags": []
   },
   "outputs": [],
   "source": [
    "kmeans = KMeans(\n",
    "    init=\"random\",\n",
    "    n_clusters=4,\n",
    "    n_init=10,\n",
    "    max_iter=300,\n",
    "    random_state=0\n",
    ")"
   ]
  },
  {
   "cell_type": "markdown",
   "id": "e2be744e",
   "metadata": {
    "id": "Ps1dAv27f-NA",
    "papermill": {
     "duration": 0.02741,
     "end_time": "2021-12-27T05:52:25.431747",
     "exception": false,
     "start_time": "2021-12-27T05:52:25.404337",
     "status": "completed"
    },
    "tags": []
   },
   "source": [
    "## Training the model\n",
    "Now that the k-means class is ready, the next step is to fit it to the data in scaled_features. This will perform ten runs of the k-means algorithm on your data with a maximum of 300 iterations per run:"
   ]
  },
  {
   "cell_type": "code",
   "execution_count": 10,
   "id": "2345c9de",
   "metadata": {
    "execution": {
     "iopub.execute_input": "2021-12-27T05:52:25.491047Z",
     "iopub.status.busy": "2021-12-27T05:52:25.490242Z",
     "iopub.status.idle": "2021-12-27T05:52:25.528493Z",
     "shell.execute_reply": "2021-12-27T05:52:25.529091Z",
     "shell.execute_reply.started": "2021-12-27T05:51:35.114602Z"
    },
    "id": "3cNbyOjGfy9N",
    "outputId": "1980086c-f2d9-49d7-9a70-dd4780975e09",
    "papermill": {
     "duration": 0.069771,
     "end_time": "2021-12-27T05:52:25.529291",
     "exception": false,
     "start_time": "2021-12-27T05:52:25.459520",
     "status": "completed"
    },
    "tags": []
   },
   "outputs": [
    {
     "data": {
      "text/plain": [
       "KMeans(init='random', n_clusters=4, random_state=0)"
      ]
     },
     "execution_count": 10,
     "metadata": {},
     "output_type": "execute_result"
    }
   ],
   "source": [
    "kmeans.fit(X)"
   ]
  },
  {
   "cell_type": "markdown",
   "id": "955bcbcc",
   "metadata": {
    "id": "34hL6VZJgWTe",
    "papermill": {
     "duration": 0.027863,
     "end_time": "2021-12-27T05:52:25.587208",
     "exception": false,
     "start_time": "2021-12-27T05:52:25.559345",
     "status": "completed"
    },
    "tags": []
   },
   "source": [
    "## Assessing the attributes from training\n",
    "Statistics from the initialization run with the lowest SSE are available as attributes of kmeans after calling .fit():"
   ]
  },
  {
   "cell_type": "code",
   "execution_count": 11,
   "id": "51a45605",
   "metadata": {
    "execution": {
     "iopub.execute_input": "2021-12-27T05:52:25.647349Z",
     "iopub.status.busy": "2021-12-27T05:52:25.646575Z",
     "iopub.status.idle": "2021-12-27T05:52:25.651631Z",
     "shell.execute_reply": "2021-12-27T05:52:25.652288Z",
     "shell.execute_reply.started": "2021-12-27T05:51:35.166835Z"
    },
    "id": "B7-HLSOZgEOz",
    "outputId": "a4927202-e495-4603-805f-cfceac44d0fe",
    "papermill": {
     "duration": 0.037105,
     "end_time": "2021-12-27T05:52:25.652472",
     "exception": false,
     "start_time": "2021-12-27T05:52:25.615367",
     "status": "completed"
    },
    "tags": []
   },
   "outputs": [
    {
     "data": {
      "text/plain": [
       "56.02477057509949"
      ]
     },
     "execution_count": 11,
     "metadata": {},
     "output_type": "execute_result"
    }
   ],
   "source": [
    "# The lowest SSE value\n",
    "kmeans.inertia_"
   ]
  },
  {
   "cell_type": "code",
   "execution_count": 12,
   "id": "25d8610b",
   "metadata": {
    "execution": {
     "iopub.execute_input": "2021-12-27T05:52:25.713087Z",
     "iopub.status.busy": "2021-12-27T05:52:25.712340Z",
     "iopub.status.idle": "2021-12-27T05:52:25.718352Z",
     "shell.execute_reply": "2021-12-27T05:52:25.718988Z",
     "shell.execute_reply.started": "2021-12-27T05:51:35.175074Z"
    },
    "id": "shAHbhKYgkxB",
    "outputId": "8d6f3116-f332-4299-da0e-6d6c1fec64d2",
    "papermill": {
     "duration": 0.038045,
     "end_time": "2021-12-27T05:52:25.719166",
     "exception": false,
     "start_time": "2021-12-27T05:52:25.681121",
     "status": "completed"
    },
    "tags": []
   },
   "outputs": [
    {
     "data": {
      "text/plain": [
       "array([[-0.83691948,  1.46193015],\n",
       "       [ 0.58536699,  0.17425154],\n",
       "       [ 1.21774671, -1.19712077],\n",
       "       [-0.96619422, -0.43906093]])"
      ]
     },
     "execution_count": 12,
     "metadata": {},
     "output_type": "execute_result"
    }
   ],
   "source": [
    "# Final locations of the centroids\n",
    "kmeans.cluster_centers_"
   ]
  },
  {
   "cell_type": "code",
   "execution_count": 13,
   "id": "7a93daf3",
   "metadata": {
    "execution": {
     "iopub.execute_input": "2021-12-27T05:52:25.780986Z",
     "iopub.status.busy": "2021-12-27T05:52:25.779962Z",
     "iopub.status.idle": "2021-12-27T05:52:25.785032Z",
     "shell.execute_reply": "2021-12-27T05:52:25.785634Z",
     "shell.execute_reply.started": "2021-12-27T05:51:35.189635Z"
    },
    "id": "UsjiAVgOgo1k",
    "outputId": "51b17ef9-62a8-4f37-d38e-a299db5203fa",
    "papermill": {
     "duration": 0.037737,
     "end_time": "2021-12-27T05:52:25.785806",
     "exception": false,
     "start_time": "2021-12-27T05:52:25.748069",
     "status": "completed"
    },
    "tags": []
   },
   "outputs": [
    {
     "data": {
      "text/plain": [
       "5"
      ]
     },
     "execution_count": 13,
     "metadata": {},
     "output_type": "execute_result"
    }
   ],
   "source": [
    "# The number of iterations required to converge\n",
    "kmeans.n_iter_"
   ]
  },
  {
   "cell_type": "markdown",
   "id": "2a9c27d6",
   "metadata": {
    "id": "lYuf4UVbgxnx",
    "papermill": {
     "duration": 0.029227,
     "end_time": "2021-12-27T05:52:25.844242",
     "exception": false,
     "start_time": "2021-12-27T05:52:25.815015",
     "status": "completed"
    },
    "tags": []
   },
   "source": [
    "Finally, the cluster assignments are stored as a one-dimensional NumPy array in kmeans.labels_. Here’s a look at the first five predicted labels:"
   ]
  },
  {
   "cell_type": "code",
   "execution_count": 14,
   "id": "0a3d93c4",
   "metadata": {
    "execution": {
     "iopub.execute_input": "2021-12-27T05:52:25.907426Z",
     "iopub.status.busy": "2021-12-27T05:52:25.906392Z",
     "iopub.status.idle": "2021-12-27T05:52:25.912596Z",
     "shell.execute_reply": "2021-12-27T05:52:25.913215Z",
     "shell.execute_reply.started": "2021-12-27T05:51:35.202080Z"
    },
    "id": "T5vN-jsCgrkX",
    "outputId": "2a60353b-64e8-4eab-ac7d-238f46ed2a4a",
    "papermill": {
     "duration": 0.039856,
     "end_time": "2021-12-27T05:52:25.913399",
     "exception": false,
     "start_time": "2021-12-27T05:52:25.873543",
     "status": "completed"
    },
    "tags": []
   },
   "outputs": [
    {
     "data": {
      "text/plain": [
       "array([2, 0, 1, 0, 2], dtype=int32)"
      ]
     },
     "execution_count": 14,
     "metadata": {},
     "output_type": "execute_result"
    }
   ],
   "source": [
    "kmeans.labels_[:5]"
   ]
  },
  {
   "cell_type": "markdown",
   "id": "e469758c",
   "metadata": {
    "id": "5QhW6Zcyg-ia",
    "papermill": {
     "duration": 0.029781,
     "end_time": "2021-12-27T05:52:25.972738",
     "exception": false,
     "start_time": "2021-12-27T05:52:25.942957",
     "status": "completed"
    },
    "tags": []
   },
   "source": [
    "**Note:** Ordering of cluster labels is dependent on the initialization. So it's normal to see that clusters with true_labels as 3 labeled with 2 here. This doesn’t affect clustering evaluation metrics."
   ]
  },
  {
   "cell_type": "markdown",
   "id": "1d330b80",
   "metadata": {
    "id": "B-zvXSO2hdKE",
    "papermill": {
     "duration": 0.030058,
     "end_time": "2021-12-27T05:52:26.033679",
     "exception": false,
     "start_time": "2021-12-27T05:52:26.003621",
     "status": "completed"
    },
    "tags": []
   },
   "source": [
    "Rather than using labels_, you can also get the predicted the labels using the `predict` method."
   ]
  },
  {
   "cell_type": "code",
   "execution_count": 15,
   "id": "3dab2d03",
   "metadata": {
    "execution": {
     "iopub.execute_input": "2021-12-27T05:52:26.098536Z",
     "iopub.status.busy": "2021-12-27T05:52:26.097474Z",
     "iopub.status.idle": "2021-12-27T05:52:26.104473Z",
     "shell.execute_reply": "2021-12-27T05:52:26.105063Z",
     "shell.execute_reply.started": "2021-12-27T05:51:35.216163Z"
    },
    "id": "veNwpPTag1__",
    "outputId": "b71955c6-c43f-40ed-a1b5-e2035d04e898",
    "papermill": {
     "duration": 0.040602,
     "end_time": "2021-12-27T05:52:26.105242",
     "exception": false,
     "start_time": "2021-12-27T05:52:26.064640",
     "status": "completed"
    },
    "tags": []
   },
   "outputs": [
    {
     "data": {
      "text/plain": [
       "array([2, 0, 1, 0, 2], dtype=int32)"
      ]
     },
     "execution_count": 15,
     "metadata": {},
     "output_type": "execute_result"
    }
   ],
   "source": [
    "y_kmeans = kmeans.predict(X)\n",
    "y_kmeans[:5]"
   ]
  },
  {
   "cell_type": "markdown",
   "id": "f808ffc5",
   "metadata": {
    "id": "8wszIJTIh8lh",
    "papermill": {
     "duration": 0.029627,
     "end_time": "2021-12-27T05:52:26.164688",
     "exception": false,
     "start_time": "2021-12-27T05:52:26.135061",
     "status": "completed"
    },
    "tags": []
   },
   "source": [
    "## Visualizing results\n",
    "Let's visualize the results by plotting the data colored by these labels. We will also plot the cluster centers as determined by the k-means estimator:"
   ]
  },
  {
   "cell_type": "code",
   "execution_count": 16,
   "id": "9affc0ba",
   "metadata": {
    "execution": {
     "iopub.execute_input": "2021-12-27T05:52:26.228231Z",
     "iopub.status.busy": "2021-12-27T05:52:26.227257Z",
     "iopub.status.idle": "2021-12-27T05:52:26.491410Z",
     "shell.execute_reply": "2021-12-27T05:52:26.490819Z",
     "shell.execute_reply.started": "2021-12-27T05:51:35.230357Z"
    },
    "id": "Q9ixMHBvhtdN",
    "outputId": "d44760c4-fc3f-4c1b-f65a-052dc760a542",
    "papermill": {
     "duration": 0.29718,
     "end_time": "2021-12-27T05:52:26.491564",
     "exception": false,
     "start_time": "2021-12-27T05:52:26.194384",
     "status": "completed"
    },
    "tags": []
   },
   "outputs": [
    {
     "data": {
      "image/png": "[encoded data removed]",
      "text/plain": [
       "<Figure size 432x288 with 1 Axes>"
      ]
     },
     "metadata": {
      "needs_background": "light"
     },
     "output_type": "display_data"
    }
   ],
   "source": [
    "plt.scatter(X[:, 0], X[:, 1], c=y_kmeans, s=50, cmap='viridis')\n",
    "\n",
    "centers = kmeans.cluster_centers_\n",
    "plt.scatter(centers[:, 0], centers[:, 1], c='black', s=200, alpha=0.5);"
   ]
  },
  {
   "cell_type": "markdown",
   "id": "fea5e6ba",
   "metadata": {
    "id": "u9oyZYiSiaaP",
    "papermill": {
     "duration": 0.031493,
     "end_time": "2021-12-27T05:52:26.554656",
     "exception": false,
     "start_time": "2021-12-27T05:52:26.523163",
     "status": "completed"
    },
    "tags": []
   },
   "source": [
    "The good news is that the k-means algorithm (at least in this simple case) assigns the points to clusters very similarly to how we might assign them by eye. "
   ]
  },
  {
   "cell_type": "markdown",
   "id": "c365a2f1",
   "metadata": {
    "id": "ao-Pfqj8kd4Z",
    "papermill": {
     "duration": 0.033081,
     "end_time": "2021-12-27T05:52:26.619560",
     "exception": false,
     "start_time": "2021-12-27T05:52:26.586479",
     "status": "completed"
    },
    "tags": []
   },
   "source": [
    "# Conclusion\n",
    "In this notebook, we implemented K-Means algorithm to identify the clusters in a simple dataset. "
   ]
  },
  {
   "cell_type": "markdown",
   "id": "a3033bfa",
   "metadata": {
    "id": "s9ggmshRkpDN",
    "papermill": {
     "duration": 0.033373,
     "end_time": "2021-12-27T05:52:26.686546",
     "exception": false,
     "start_time": "2021-12-27T05:52:26.653173",
     "status": "completed"
    },
    "tags": []
   },
   "source": [
    "# References\n",
    "\n",
    "\n",
    "*   https://colab.research.google.com/github/jakevdp/PythonDataScienceHandbook/blob/master/notebooks/05.11-K-Means.ipynb#scrollTo=VGwRIScwNnlb\n",
    "*   https://realpython.com/k-means-clustering-python/#how-to-perform-k-means-clustering-in-python\n",
    "\n"
   ]
  }
 ],
 "metadata": {
  "kernelspec": {
   "display_name": "Python 3",
   "language": "python",
   "name": "python3"
  },
  "language_info": {
   "codemirror_mode": {
    "name": "ipython",
    "version": 3
   },
   "file_extension": ".py",
   "mimetype": "text/x-python",
   "name": "python",
   "nbconvert_exporter": "python",
   "pygments_lexer": "ipython3",
   "version": "3.7.12"
  },
  "papermill": {
   "default_parameters": {},
   "duration": 25.995869,
   "end_time": "2021-12-27T05:52:27.533267",
   "environment_variables": {},
   "exception": null,
   "input_path": "__notebook__.ipynb",
   "output_path": "__notebook__.ipynb",
   "parameters": {},
   "start_time": "2021-12-27T05:52:01.537398",
   "version": "2.3.3"
  }
 },
 "nbformat": 4,
 "nbformat_minor": 5
}
