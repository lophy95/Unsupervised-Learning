{
 "cells": [
  {
   "cell_type": "markdown",
   "id": "4ec96cfe",
   "metadata": {
    "_cell_guid": "b1076dfc-b9ad-4769-8c92-a6c4dae69d19",
    "_uuid": "8f2839f25d086af736a60e9eeb907d3b93b6e0e5",
    "id": "aM7bw7Vfq8iX",
    "papermill": {
     "duration": 0.044704,
     "end_time": "2021-12-27T05:49:42.923578",
     "exception": false,
     "start_time": "2021-12-27T05:49:42.878874",
     "status": "completed"
    },
    "tags": []
   },
   "source": [
    "<h2 style='height:40px;text-align:center;font-size:30px;background-color:red;border:20px;color:white'>Violent Crime Rates By US State<h2>\n"
   ]
  },
  {
   "cell_type": "markdown",
   "id": "d5af3ae7",
   "metadata": {
    "_cell_guid": "79c7e3d0-c299-4dcb-8224-4455121ee9b0",
    "_uuid": "d629ff2d2480ee46fbb7e2d37f6b5fab8052498a",
    "id": "8EfFi98Eq8it",
    "papermill": {
     "duration": 0.041002,
     "end_time": "2021-12-27T05:49:43.007781",
     "exception": false,
     "start_time": "2021-12-27T05:49:42.966779",
     "status": "completed"
    },
    "tags": []
   },
   "source": [
    "## Data Description\n",
    "**Violent Crime Rates by US State:** This data set contains statistics, in arrests per 100,000 residents\n",
    "for assault, murder, and rape in each of the 50 US states in 1973.\n",
    "Also given is the percent of the population living in urban areas.This is a systematic approach for identifying and analyzing patterns and trends in crime using USArrest dataset.  "
   ]
  },
  {
   "cell_type": "markdown",
   "id": "4e1c1af4",
   "metadata": {
    "id": "Ft7wzNIcq8iu",
    "papermill": {
     "duration": 0.042742,
     "end_time": "2021-12-27T05:49:43.092033",
     "exception": false,
     "start_time": "2021-12-27T05:49:43.049291",
     "status": "completed"
    },
    "tags": []
   },
   "source": [
    "## What is Hierarchical Clustering?\n",
    "\n",
    "Hierarchical clustering is a type of unsupervised machine learning algorithm used to cluster unlabeled data points. Like K-means clustering, hierarchical clustering also groups together the data points with similar characteristics.One of the major considerations in using the K-means algorithm is deciding the value of K beforehand. The hierarchical clustering algorithm does not have this restriction.The output of the hierarchical clustering algorithm is quite different from the K-mean algorithm as well. It results in an inverted tree-shaped structure, called the **dendrogram**."
   ]
  },
  {
   "cell_type": "markdown",
   "id": "8ba2fe78",
   "metadata": {
    "id": "G-BV5TDZq8iv",
    "papermill": {
     "duration": 0.042072,
     "end_time": "2021-12-27T05:49:43.175563",
     "exception": false,
     "start_time": "2021-12-27T05:49:43.133491",
     "status": "completed"
    },
    "tags": []
   },
   "source": [
    "## Types Of Hierarchical Clustering:\n",
    "\n",
    "There are two types of hierarchical clustering: \n",
    "\n",
    "* **Agglomerative**: The data points are clustered using a bottom-up approach starting with individual data points.\n",
    "* **Divisive**: The top-down approach is followed where all the data points are treated as one big cluster and the clustering process involves dividing the one big cluster into several small clusters."
   ]
  },
  {
   "cell_type": "markdown",
   "id": "8b2fbeca",
   "metadata": {
    "id": "PL2nQAHzq8iw",
    "papermill": {
     "duration": 0.040704,
     "end_time": "2021-12-27T05:49:43.257743",
     "exception": false,
     "start_time": "2021-12-27T05:49:43.217039",
     "status": "completed"
    },
    "tags": []
   },
   "source": [
    "![Hierarchical-Clustering-Analysis](https://miro.medium.com/max/1608/1*ICdqpcL62G1q_kIlVszrrg.png)"
   ]
  },
  {
   "cell_type": "markdown",
   "id": "e03d7b1a",
   "metadata": {
    "id": "XXRkDywqq8iw",
    "papermill": {
     "duration": 0.040849,
     "end_time": "2021-12-27T05:49:43.339848",
     "exception": false,
     "start_time": "2021-12-27T05:49:43.298999",
     "status": "completed"
    },
    "tags": []
   },
   "source": [
    "## Steps to Perform Hierarchical Clustering:\n",
    "\n",
    "Following are the steps involved in **agglomerative clustering**:\n",
    "\n",
    "* At the start, treat each data point as one cluster. Therefore, the number of clusters at the start will be K, while K is an integer representing the number of data points.\n",
    "* Form a cluster by joining the two closest data points resulting in K-1 clusters.\n",
    "* Form more clusters by joining the two closest clusters resulting in K-2 clusters.\n",
    "* Repeat the above three steps until one big cluster is formed.\n",
    "* Once single cluster is formed, dendrograms are used to divide into multiple clusters depending upon the problem. We will study the concept of dendrogram in detail in an upcoming section."
   ]
  },
  {
   "cell_type": "markdown",
   "id": "5ba3ec76",
   "metadata": {
    "id": "rae6SY3Mq8ix",
    "papermill": {
     "duration": 0.040818,
     "end_time": "2021-12-27T05:49:43.421669",
     "exception": false,
     "start_time": "2021-12-27T05:49:43.380851",
     "status": "completed"
    },
    "tags": []
   },
   "source": [
    "## Import the Desired Libraries:"
   ]
  },
  {
   "cell_type": "code",
   "execution_count": 1,
   "id": "7454b25a",
   "metadata": {
    "execution": {
     "iopub.execute_input": "2021-12-27T05:49:43.509068Z",
     "iopub.status.busy": "2021-12-27T05:49:43.507899Z",
     "iopub.status.idle": "2021-12-27T05:49:43.516846Z",
     "shell.execute_reply": "2021-12-27T05:49:43.517362Z",
     "shell.execute_reply.started": "2021-12-27T05:46:38.345105Z"
    },
    "id": "M5xeiLFPq8iy",
    "papermill": {
     "duration": 0.054987,
     "end_time": "2021-12-27T05:49:43.517683",
     "exception": false,
     "start_time": "2021-12-27T05:49:43.462696",
     "status": "completed"
    },
    "tags": []
   },
   "outputs": [],
   "source": [
    "# ignoring any warnings\n",
    "import warnings\n",
    "warnings.filterwarnings('always')\n",
    "warnings.filterwarnings('ignore')"
   ]
  },
  {
   "cell_type": "code",
   "execution_count": 2,
   "id": "42aeac64",
   "metadata": {
    "execution": {
     "iopub.execute_input": "2021-12-27T05:49:43.602889Z",
     "iopub.status.busy": "2021-12-27T05:49:43.602251Z",
     "iopub.status.idle": "2021-12-27T05:49:44.685433Z",
     "shell.execute_reply": "2021-12-27T05:49:44.684806Z",
     "shell.execute_reply.started": "2021-12-27T05:46:38.384965Z"
    },
    "id": "6AEiDvNaq8iz",
    "papermill": {
     "duration": 1.126747,
     "end_time": "2021-12-27T05:49:44.685587",
     "exception": false,
     "start_time": "2021-12-27T05:49:43.558840",
     "status": "completed"
    },
    "tags": []
   },
   "outputs": [],
   "source": [
    "import matplotlib.pyplot as plt\n",
    "import pandas as pd\n",
    "import numpy as np\n",
    "import seaborn as sns"
   ]
  },
  {
   "cell_type": "code",
   "execution_count": 3,
   "id": "b69e7045",
   "metadata": {
    "execution": {
     "iopub.execute_input": "2021-12-27T05:49:44.776690Z",
     "iopub.status.busy": "2021-12-27T05:49:44.775758Z",
     "iopub.status.idle": "2021-12-27T05:49:44.916489Z",
     "shell.execute_reply": "2021-12-27T05:49:44.915771Z",
     "shell.execute_reply.started": "2021-12-27T05:46:39.575878Z"
    },
    "id": "hSzMIjHtq8i0",
    "papermill": {
     "duration": 0.187536,
     "end_time": "2021-12-27T05:49:44.916671",
     "exception": false,
     "start_time": "2021-12-27T05:49:44.729135",
     "status": "completed"
    },
    "tags": []
   },
   "outputs": [],
   "source": [
    "from sklearn.preprocessing import StandardScaler\n",
    "scaler= StandardScaler()"
   ]
  },
  {
   "cell_type": "code",
   "execution_count": 4,
   "id": "a3b4cd8f",
   "metadata": {
    "execution": {
     "iopub.execute_input": "2021-12-27T05:49:45.004067Z",
     "iopub.status.busy": "2021-12-27T05:49:45.003368Z",
     "iopub.status.idle": "2021-12-27T05:49:45.307378Z",
     "shell.execute_reply": "2021-12-27T05:49:45.306829Z",
     "shell.execute_reply.started": "2021-12-27T05:46:39.709669Z"
    },
    "id": "pWoVLAd8q8i1",
    "papermill": {
     "duration": 0.349194,
     "end_time": "2021-12-27T05:49:45.307542",
     "exception": false,
     "start_time": "2021-12-27T05:49:44.958348",
     "status": "completed"
    },
    "tags": []
   },
   "outputs": [],
   "source": [
    "import scipy.cluster.hierarchy as sch\n",
    "from sklearn.cluster import AgglomerativeClustering"
   ]
  },
  {
   "cell_type": "markdown",
   "id": "284ee232",
   "metadata": {
    "id": "ldgff1jFq8i1",
    "papermill": {
     "duration": 0.040815,
     "end_time": "2021-12-27T05:49:45.389557",
     "exception": false,
     "start_time": "2021-12-27T05:49:45.348742",
     "status": "completed"
    },
    "tags": []
   },
   "source": [
    "## Reading and Understanding the Data"
   ]
  },
  {
   "cell_type": "code",
   "execution_count": 5,
   "id": "6c596588",
   "metadata": {
    "execution": {
     "iopub.execute_input": "2021-12-27T05:49:45.476509Z",
     "iopub.status.busy": "2021-12-27T05:49:45.475899Z",
     "iopub.status.idle": "2021-12-27T05:49:45.602505Z",
     "shell.execute_reply": "2021-12-27T05:49:45.601801Z",
     "shell.execute_reply.started": "2021-12-27T05:46:40.005473Z"
    },
    "id": "fIVD_zToq8i2",
    "papermill": {
     "duration": 0.171924,
     "end_time": "2021-12-27T05:49:45.602689",
     "exception": false,
     "start_time": "2021-12-27T05:49:45.430765",
     "status": "completed"
    },
    "tags": []
   },
   "outputs": [],
   "source": [
    "crime = pd.read_csv(\"https://raw.githubusercontent.com/dphi-official/Datasets/master/US_violent_crime.csv\")"
   ]
  },
  {
   "cell_type": "code",
   "execution_count": 6,
   "id": "3b16e291",
   "metadata": {
    "execution": {
     "iopub.execute_input": "2021-12-27T05:49:45.690827Z",
     "iopub.status.busy": "2021-12-27T05:49:45.690091Z",
     "iopub.status.idle": "2021-12-27T05:49:45.709440Z",
     "shell.execute_reply": "2021-12-27T05:49:45.710016Z",
     "shell.execute_reply.started": "2021-12-27T05:46:40.275612Z"
    },
    "id": "P5DBmJT9q8i2",
    "outputId": "bbc8afed-8f3e-4e49-e46e-b59e0d6749ec",
    "papermill": {
     "duration": 0.065438,
     "end_time": "2021-12-27T05:49:45.710221",
     "exception": false,
     "start_time": "2021-12-27T05:49:45.644783",
     "status": "completed"
    },
    "tags": []
   },
   "outputs": [
    {
     "data": {
      "text/html": [
       "<div>\n",
       "<style scoped>\n",
       "    .dataframe tbody tr th:only-of-type {\n",
       "        vertical-align: middle;\n",
       "    }\n",
       "\n",
       "    .dataframe tbody tr th {\n",
       "        vertical-align: top;\n",
       "    }\n",
       "\n",
       "    .dataframe thead th {\n",
       "        text-align: right;\n",
       "    }\n",
       "</style>\n",
       "<table border=\"1\" class=\"dataframe\">\n",
       "  <thead>\n",
       "    <tr style=\"text-align: right;\">\n",
       "      <th></th>\n",
       "      <th>Unnamed: 0</th>\n",
       "      <th>Murder</th>\n",
       "      <th>Assault</th>\n",
       "      <th>UrbanPop</th>\n",
       "      <th>Rape</th>\n",
       "    </tr>\n",
       "  </thead>\n",
       "  <tbody>\n",
       "    <tr>\n",
       "      <th>0</th>\n",
       "      <td>Alabama</td>\n",
       "      <td>13.2</td>\n",
       "      <td>236</td>\n",
       "      <td>58</td>\n",
       "      <td>21.2</td>\n",
       "    </tr>\n",
       "    <tr>\n",
       "      <th>1</th>\n",
       "      <td>Alaska</td>\n",
       "      <td>10.0</td>\n",
       "      <td>263</td>\n",
       "      <td>48</td>\n",
       "      <td>44.5</td>\n",
       "    </tr>\n",
       "    <tr>\n",
       "      <th>2</th>\n",
       "      <td>Arizona</td>\n",
       "      <td>8.1</td>\n",
       "      <td>294</td>\n",
       "      <td>80</td>\n",
       "      <td>31.0</td>\n",
       "    </tr>\n",
       "    <tr>\n",
       "      <th>3</th>\n",
       "      <td>Arkansas</td>\n",
       "      <td>8.8</td>\n",
       "      <td>190</td>\n",
       "      <td>50</td>\n",
       "      <td>19.5</td>\n",
       "    </tr>\n",
       "    <tr>\n",
       "      <th>4</th>\n",
       "      <td>California</td>\n",
       "      <td>9.0</td>\n",
       "      <td>276</td>\n",
       "      <td>91</td>\n",
       "      <td>40.6</td>\n",
       "    </tr>\n",
       "  </tbody>\n",
       "</table>\n",
       "</div>"
      ],
      "text/plain": [
       "   Unnamed: 0  Murder  Assault  UrbanPop  Rape\n",
       "0     Alabama    13.2      236        58  21.2\n",
       "1      Alaska    10.0      263        48  44.5\n",
       "2     Arizona     8.1      294        80  31.0\n",
       "3    Arkansas     8.8      190        50  19.5\n",
       "4  California     9.0      276        91  40.6"
      ]
     },
     "execution_count": 6,
     "metadata": {},
     "output_type": "execute_result"
    }
   ],
   "source": [
    "#peeking at the dataset\n",
    "crime.head(5)"
   ]
  },
  {
   "cell_type": "markdown",
   "id": "c8393a94",
   "metadata": {
    "id": "qJKpq6hrq8i5",
    "papermill": {
     "duration": 0.042219,
     "end_time": "2021-12-27T05:49:45.795406",
     "exception": false,
     "start_time": "2021-12-27T05:49:45.753187",
     "status": "completed"
    },
    "tags": []
   },
   "source": [
    "### Our dataset consists of crime rates for Murder, Assault, UrbanPop and Rape"
   ]
  },
  {
   "cell_type": "code",
   "execution_count": 7,
   "id": "c98a52c9",
   "metadata": {
    "execution": {
     "iopub.execute_input": "2021-12-27T05:49:45.884118Z",
     "iopub.status.busy": "2021-12-27T05:49:45.883430Z",
     "iopub.status.idle": "2021-12-27T05:49:45.887533Z",
     "shell.execute_reply": "2021-12-27T05:49:45.888144Z",
     "shell.execute_reply.started": "2021-12-27T05:46:40.300359Z"
    },
    "id": "MRLllahPq8i5",
    "outputId": "3f973f4b-a439-4c46-a49e-62a35de5b5f3",
    "papermill": {
     "duration": 0.050451,
     "end_time": "2021-12-27T05:49:45.888327",
     "exception": false,
     "start_time": "2021-12-27T05:49:45.837876",
     "status": "completed"
    },
    "tags": []
   },
   "outputs": [
    {
     "data": {
      "text/plain": [
       "(50, 5)"
      ]
     },
     "execution_count": 7,
     "metadata": {},
     "output_type": "execute_result"
    }
   ],
   "source": [
    "# Let's see how many rows and columns we got!\n",
    "crime.shape"
   ]
  },
  {
   "cell_type": "code",
   "execution_count": 8,
   "id": "1987a7a3",
   "metadata": {
    "execution": {
     "iopub.execute_input": "2021-12-27T05:49:45.979055Z",
     "iopub.status.busy": "2021-12-27T05:49:45.978374Z",
     "iopub.status.idle": "2021-12-27T05:49:46.001344Z",
     "shell.execute_reply": "2021-12-27T05:49:46.001887Z",
     "shell.execute_reply.started": "2021-12-27T05:46:40.308978Z"
    },
    "id": "oCmfDyUwq8i6",
    "outputId": "b10fd6ac-c958-4dde-a1a2-37f85dd56c9d",
    "papermill": {
     "duration": 0.069422,
     "end_time": "2021-12-27T05:49:46.002107",
     "exception": false,
     "start_time": "2021-12-27T05:49:45.932685",
     "status": "completed"
    },
    "tags": []
   },
   "outputs": [
    {
     "name": "stdout",
     "output_type": "stream",
     "text": [
      "<class 'pandas.core.frame.DataFrame'>\n",
      "RangeIndex: 50 entries, 0 to 49\n",
      "Data columns (total 5 columns):\n",
      " #   Column      Non-Null Count  Dtype  \n",
      "---  ------      --------------  -----  \n",
      " 0   Unnamed: 0  50 non-null     object \n",
      " 1   Murder      50 non-null     float64\n",
      " 2   Assault     50 non-null     int64  \n",
      " 3   UrbanPop    50 non-null     int64  \n",
      " 4   Rape        50 non-null     float64\n",
      "dtypes: float64(2), int64(2), object(1)\n",
      "memory usage: 2.1+ KB\n"
     ]
    }
   ],
   "source": [
    "#Let's see some facts here\n",
    "crime.info()"
   ]
  },
  {
   "cell_type": "markdown",
   "id": "01d3403e",
   "metadata": {
    "id": "akz2BNUCq8i7",
    "papermill": {
     "duration": 0.044037,
     "end_time": "2021-12-27T05:49:46.089198",
     "exception": false,
     "start_time": "2021-12-27T05:49:46.045161",
     "status": "completed"
    },
    "tags": []
   },
   "source": [
    "**We have 50 rows and 5 columns.**"
   ]
  },
  {
   "cell_type": "code",
   "execution_count": 9,
   "id": "6a319713",
   "metadata": {
    "execution": {
     "iopub.execute_input": "2021-12-27T05:49:46.179675Z",
     "iopub.status.busy": "2021-12-27T05:49:46.179011Z",
     "iopub.status.idle": "2021-12-27T05:49:46.201839Z",
     "shell.execute_reply": "2021-12-27T05:49:46.202477Z",
     "shell.execute_reply.started": "2021-12-27T05:46:40.344191Z"
    },
    "id": "n0PPwSNcq8i7",
    "outputId": "26bed37f-2325-40df-b50c-8b6604e44f10",
    "papermill": {
     "duration": 0.069954,
     "end_time": "2021-12-27T05:49:46.202693",
     "exception": false,
     "start_time": "2021-12-27T05:49:46.132739",
     "status": "completed"
    },
    "tags": []
   },
   "outputs": [
    {
     "data": {
      "text/html": [
       "<div>\n",
       "<style scoped>\n",
       "    .dataframe tbody tr th:only-of-type {\n",
       "        vertical-align: middle;\n",
       "    }\n",
       "\n",
       "    .dataframe tbody tr th {\n",
       "        vertical-align: top;\n",
       "    }\n",
       "\n",
       "    .dataframe thead th {\n",
       "        text-align: right;\n",
       "    }\n",
       "</style>\n",
       "<table border=\"1\" class=\"dataframe\">\n",
       "  <thead>\n",
       "    <tr style=\"text-align: right;\">\n",
       "      <th></th>\n",
       "      <th>Murder</th>\n",
       "      <th>Assault</th>\n",
       "      <th>UrbanPop</th>\n",
       "      <th>Rape</th>\n",
       "    </tr>\n",
       "  </thead>\n",
       "  <tbody>\n",
       "    <tr>\n",
       "      <th>count</th>\n",
       "      <td>50.00000</td>\n",
       "      <td>50.000000</td>\n",
       "      <td>50.000000</td>\n",
       "      <td>50.000000</td>\n",
       "    </tr>\n",
       "    <tr>\n",
       "      <th>mean</th>\n",
       "      <td>7.78800</td>\n",
       "      <td>170.760000</td>\n",
       "      <td>65.540000</td>\n",
       "      <td>21.232000</td>\n",
       "    </tr>\n",
       "    <tr>\n",
       "      <th>std</th>\n",
       "      <td>4.35551</td>\n",
       "      <td>83.337661</td>\n",
       "      <td>14.474763</td>\n",
       "      <td>9.366385</td>\n",
       "    </tr>\n",
       "    <tr>\n",
       "      <th>min</th>\n",
       "      <td>0.80000</td>\n",
       "      <td>45.000000</td>\n",
       "      <td>32.000000</td>\n",
       "      <td>7.300000</td>\n",
       "    </tr>\n",
       "    <tr>\n",
       "      <th>25%</th>\n",
       "      <td>4.07500</td>\n",
       "      <td>109.000000</td>\n",
       "      <td>54.500000</td>\n",
       "      <td>15.075000</td>\n",
       "    </tr>\n",
       "    <tr>\n",
       "      <th>50%</th>\n",
       "      <td>7.25000</td>\n",
       "      <td>159.000000</td>\n",
       "      <td>66.000000</td>\n",
       "      <td>20.100000</td>\n",
       "    </tr>\n",
       "    <tr>\n",
       "      <th>75%</th>\n",
       "      <td>11.25000</td>\n",
       "      <td>249.000000</td>\n",
       "      <td>77.750000</td>\n",
       "      <td>26.175000</td>\n",
       "    </tr>\n",
       "    <tr>\n",
       "      <th>max</th>\n",
       "      <td>17.40000</td>\n",
       "      <td>337.000000</td>\n",
       "      <td>91.000000</td>\n",
       "      <td>46.000000</td>\n",
       "    </tr>\n",
       "  </tbody>\n",
       "</table>\n",
       "</div>"
      ],
      "text/plain": [
       "         Murder     Assault   UrbanPop       Rape\n",
       "count  50.00000   50.000000  50.000000  50.000000\n",
       "mean    7.78800  170.760000  65.540000  21.232000\n",
       "std     4.35551   83.337661  14.474763   9.366385\n",
       "min     0.80000   45.000000  32.000000   7.300000\n",
       "25%     4.07500  109.000000  54.500000  15.075000\n",
       "50%     7.25000  159.000000  66.000000  20.100000\n",
       "75%    11.25000  249.000000  77.750000  26.175000\n",
       "max    17.40000  337.000000  91.000000  46.000000"
      ]
     },
     "execution_count": 9,
     "metadata": {},
     "output_type": "execute_result"
    }
   ],
   "source": [
    "# Let's get some statistics summary\n",
    "crime.describe()"
   ]
  },
  {
   "cell_type": "markdown",
   "id": "972eab2d",
   "metadata": {
    "id": "ZmGWHTeDq8i8",
    "papermill": {
     "duration": 0.043327,
     "end_time": "2021-12-27T05:49:46.289401",
     "exception": false,
     "start_time": "2021-12-27T05:49:46.246074",
     "status": "completed"
    },
    "tags": []
   },
   "source": [
    "### Let's check for missing values."
   ]
  },
  {
   "cell_type": "code",
   "execution_count": 10,
   "id": "995b9928",
   "metadata": {
    "execution": {
     "iopub.execute_input": "2021-12-27T05:49:46.386178Z",
     "iopub.status.busy": "2021-12-27T05:49:46.385047Z",
     "iopub.status.idle": "2021-12-27T05:49:46.389159Z",
     "shell.execute_reply": "2021-12-27T05:49:46.388645Z",
     "shell.execute_reply.started": "2021-12-27T05:46:40.378589Z"
    },
    "id": "iznpG2oSq8i9",
    "outputId": "77bce740-0efb-4c52-b2aa-92f0bbc2c0d6",
    "papermill": {
     "duration": 0.056194,
     "end_time": "2021-12-27T05:49:46.389319",
     "exception": false,
     "start_time": "2021-12-27T05:49:46.333125",
     "status": "completed"
    },
    "tags": []
   },
   "outputs": [
    {
     "data": {
      "text/plain": [
       "Unnamed: 0    0\n",
       "Murder        0\n",
       "Assault       0\n",
       "UrbanPop      0\n",
       "Rape          0\n",
       "dtype: int64"
      ]
     },
     "execution_count": 10,
     "metadata": {},
     "output_type": "execute_result"
    }
   ],
   "source": [
    "crime.isnull().sum()"
   ]
  },
  {
   "cell_type": "markdown",
   "id": "ce168a61",
   "metadata": {
    "id": "5z5dBO-Vq8i9",
    "papermill": {
     "duration": 0.044022,
     "end_time": "2021-12-27T05:49:46.477678",
     "exception": false,
     "start_time": "2021-12-27T05:49:46.433656",
     "status": "completed"
    },
    "tags": []
   },
   "source": [
    "**We have no missing values!**"
   ]
  },
  {
   "cell_type": "code",
   "execution_count": 11,
   "id": "1933ee60",
   "metadata": {
    "execution": {
     "iopub.execute_input": "2021-12-27T05:49:46.572284Z",
     "iopub.status.busy": "2021-12-27T05:49:46.571426Z",
     "iopub.status.idle": "2021-12-27T05:49:46.574579Z",
     "shell.execute_reply": "2021-12-27T05:49:46.574034Z",
     "shell.execute_reply.started": "2021-12-27T05:46:40.390076Z"
    },
    "id": "hR_FAnHwq8i-",
    "papermill": {
     "duration": 0.052775,
     "end_time": "2021-12-27T05:49:46.574757",
     "exception": false,
     "start_time": "2021-12-27T05:49:46.521982",
     "status": "completed"
    },
    "tags": []
   },
   "outputs": [],
   "source": [
    "# Renaming the column as Unnmaed doesn't make sense.\n",
    "crime = crime.rename(columns={'Unnamed: 0':'State'})"
   ]
  },
  {
   "cell_type": "code",
   "execution_count": 12,
   "id": "8c9a913e",
   "metadata": {
    "execution": {
     "iopub.execute_input": "2021-12-27T05:49:46.675270Z",
     "iopub.status.busy": "2021-12-27T05:49:46.674208Z",
     "iopub.status.idle": "2021-12-27T05:49:46.678072Z",
     "shell.execute_reply": "2021-12-27T05:49:46.678573Z",
     "shell.execute_reply.started": "2021-12-27T05:46:40.405044Z"
    },
    "id": "MtA05uEQq8i-",
    "outputId": "0b4dc7ed-ffe2-43ea-f524-6608bd0254e3",
    "papermill": {
     "duration": 0.060073,
     "end_time": "2021-12-27T05:49:46.678814",
     "exception": false,
     "start_time": "2021-12-27T05:49:46.618741",
     "status": "completed"
    },
    "tags": []
   },
   "outputs": [
    {
     "data": {
      "text/html": [
       "<div>\n",
       "<style scoped>\n",
       "    .dataframe tbody tr th:only-of-type {\n",
       "        vertical-align: middle;\n",
       "    }\n",
       "\n",
       "    .dataframe tbody tr th {\n",
       "        vertical-align: top;\n",
       "    }\n",
       "\n",
       "    .dataframe thead th {\n",
       "        text-align: right;\n",
       "    }\n",
       "</style>\n",
       "<table border=\"1\" class=\"dataframe\">\n",
       "  <thead>\n",
       "    <tr style=\"text-align: right;\">\n",
       "      <th></th>\n",
       "      <th>State</th>\n",
       "      <th>Murder</th>\n",
       "      <th>Assault</th>\n",
       "      <th>UrbanPop</th>\n",
       "      <th>Rape</th>\n",
       "    </tr>\n",
       "  </thead>\n",
       "  <tbody>\n",
       "    <tr>\n",
       "      <th>0</th>\n",
       "      <td>Alabama</td>\n",
       "      <td>13.2</td>\n",
       "      <td>236</td>\n",
       "      <td>58</td>\n",
       "      <td>21.2</td>\n",
       "    </tr>\n",
       "    <tr>\n",
       "      <th>1</th>\n",
       "      <td>Alaska</td>\n",
       "      <td>10.0</td>\n",
       "      <td>263</td>\n",
       "      <td>48</td>\n",
       "      <td>44.5</td>\n",
       "    </tr>\n",
       "    <tr>\n",
       "      <th>2</th>\n",
       "      <td>Arizona</td>\n",
       "      <td>8.1</td>\n",
       "      <td>294</td>\n",
       "      <td>80</td>\n",
       "      <td>31.0</td>\n",
       "    </tr>\n",
       "    <tr>\n",
       "      <th>3</th>\n",
       "      <td>Arkansas</td>\n",
       "      <td>8.8</td>\n",
       "      <td>190</td>\n",
       "      <td>50</td>\n",
       "      <td>19.5</td>\n",
       "    </tr>\n",
       "    <tr>\n",
       "      <th>4</th>\n",
       "      <td>California</td>\n",
       "      <td>9.0</td>\n",
       "      <td>276</td>\n",
       "      <td>91</td>\n",
       "      <td>40.6</td>\n",
       "    </tr>\n",
       "  </tbody>\n",
       "</table>\n",
       "</div>"
      ],
      "text/plain": [
       "        State  Murder  Assault  UrbanPop  Rape\n",
       "0     Alabama    13.2      236        58  21.2\n",
       "1      Alaska    10.0      263        48  44.5\n",
       "2     Arizona     8.1      294        80  31.0\n",
       "3    Arkansas     8.8      190        50  19.5\n",
       "4  California     9.0      276        91  40.6"
      ]
     },
     "execution_count": 12,
     "metadata": {},
     "output_type": "execute_result"
    }
   ],
   "source": [
    "crime.head()"
   ]
  },
  {
   "cell_type": "markdown",
   "id": "fa849e70",
   "metadata": {
    "id": "p2eYKKYUfxbK",
    "papermill": {
     "duration": 0.04433,
     "end_time": "2021-12-27T05:49:46.768768",
     "exception": false,
     "start_time": "2021-12-27T05:49:46.724438",
     "status": "completed"
    },
    "tags": []
   },
   "source": [
    "# Exploratory Data Analysis"
   ]
  },
  {
   "cell_type": "markdown",
   "id": "f26a9195",
   "metadata": {
    "id": "nQMlUlnbq8i_",
    "papermill": {
     "duration": 0.046454,
     "end_time": "2021-12-27T05:49:46.859675",
     "exception": false,
     "start_time": "2021-12-27T05:49:46.813221",
     "status": "completed"
    },
    "tags": []
   },
   "source": [
    "## 1) Murder Rate"
   ]
  },
  {
   "cell_type": "code",
   "execution_count": 13,
   "id": "1732bde7",
   "metadata": {
    "execution": {
     "iopub.execute_input": "2021-12-27T05:49:46.959460Z",
     "iopub.status.busy": "2021-12-27T05:49:46.958750Z",
     "iopub.status.idle": "2021-12-27T05:49:47.938698Z",
     "shell.execute_reply": "2021-12-27T05:49:47.939195Z",
     "shell.execute_reply.started": "2021-12-27T05:46:40.425409Z"
    },
    "id": "8F8uxCIEq8i_",
    "outputId": "57b55b95-6f79-4a60-d372-60f107107ee2",
    "papermill": {
     "duration": 1.03528,
     "end_time": "2021-12-27T05:49:47.939381",
     "exception": false,
     "start_time": "2021-12-27T05:49:46.904101",
     "status": "completed"
    },
    "tags": []
   },
   "outputs": [
    {
     "data": {
      "text/plain": [
       "<AxesSubplot:xlabel='State'>"
      ]
     },
     "execution_count": 13,
     "metadata": {},
     "output_type": "execute_result"
    },
    {
     "data": {
      "image/png": "[encoded data removed]",
      "text/plain": [
       "<Figure size 1440x360 with 1 Axes>"
      ]
     },
     "metadata": {
      "needs_background": "light"
     },
     "output_type": "display_data"
    }
   ],
   "source": [
    "plt.figure(figsize=(20,5))\n",
    "crime.groupby('State')['Murder'].max().plot(kind='bar')"
   ]
  },
  {
   "cell_type": "markdown",
   "id": "e1623163",
   "metadata": {
    "id": "zb5yxGa4q8jA",
    "papermill": {
     "duration": 0.045559,
     "end_time": "2021-12-27T05:49:48.030728",
     "exception": false,
     "start_time": "2021-12-27T05:49:47.985169",
     "status": "completed"
    },
    "tags": []
   },
   "source": [
    "### **Observations**:\n",
    "\n",
    "* Highest Murder Rate : Georgia and Missisippi\n",
    "* Lowest Murder Rate : Idaho , Iowa, Maine, New Hampshire, North Dakota, Vermont and Wisconsin."
   ]
  },
  {
   "cell_type": "markdown",
   "id": "c3c23563",
   "metadata": {
    "id": "MUTbnjbOq8jB",
    "papermill": {
     "duration": 0.04628,
     "end_time": "2021-12-27T05:49:48.123847",
     "exception": false,
     "start_time": "2021-12-27T05:49:48.077567",
     "status": "completed"
    },
    "tags": []
   },
   "source": [
    "## 2) Assault Rate"
   ]
  },
  {
   "cell_type": "code",
   "execution_count": 14,
   "id": "9fc690ae",
   "metadata": {
    "execution": {
     "iopub.execute_input": "2021-12-27T05:49:48.220404Z",
     "iopub.status.busy": "2021-12-27T05:49:48.219713Z",
     "iopub.status.idle": "2021-12-27T05:49:49.242930Z",
     "shell.execute_reply": "2021-12-27T05:49:49.243708Z",
     "shell.execute_reply.started": "2021-12-27T05:46:41.445714Z"
    },
    "id": "FJDy3Lsvq8jB",
    "outputId": "d62f0511-12d4-4af1-b4f2-65de1e8054fb",
    "papermill": {
     "duration": 1.07457,
     "end_time": "2021-12-27T05:49:49.243952",
     "exception": false,
     "start_time": "2021-12-27T05:49:48.169382",
     "status": "completed"
    },
    "tags": []
   },
   "outputs": [
    {
     "data": {
      "text/plain": [
       "<AxesSubplot:xlabel='State'>"
      ]
     },
     "execution_count": 14,
     "metadata": {},
     "output_type": "execute_result"
    },
    {
     "data": {
      "image/png": "[encoded data removed]",
      "text/plain": [
       "<Figure size 1440x360 with 1 Axes>"
      ]
     },
     "metadata": {
      "needs_background": "light"
     },
     "output_type": "display_data"
    }
   ],
   "source": [
    "plt.figure(figsize=(20,5))\n",
    "crime.groupby('State')['Assault'].max().plot(kind='bar')"
   ]
  },
  {
   "cell_type": "markdown",
   "id": "7accf604",
   "metadata": {
    "id": "fxDMWXa0q8jC",
    "papermill": {
     "duration": 0.048308,
     "end_time": "2021-12-27T05:49:49.349367",
     "exception": false,
     "start_time": "2021-12-27T05:49:49.301059",
     "status": "completed"
    },
    "tags": []
   },
   "source": [
    "### **Observations**:\n",
    "\n",
    "* Highest Assualt Rate : Florida and North California.\n",
    "* Lowest Assualt Rate : Hawaii, North Dakota, Vermont , New Hampshire and Wisconsin."
   ]
  },
  {
   "cell_type": "markdown",
   "id": "cc735de0",
   "metadata": {
    "id": "XQdkqPznq8jC",
    "papermill": {
     "duration": 0.047657,
     "end_time": "2021-12-27T05:49:49.445167",
     "exception": false,
     "start_time": "2021-12-27T05:49:49.397510",
     "status": "completed"
    },
    "tags": []
   },
   "source": [
    "## 3) Rape Rate"
   ]
  },
  {
   "cell_type": "code",
   "execution_count": 15,
   "id": "4c755cbd",
   "metadata": {
    "execution": {
     "iopub.execute_input": "2021-12-27T05:49:49.602740Z",
     "iopub.status.busy": "2021-12-27T05:49:49.568711Z",
     "iopub.status.idle": "2021-12-27T05:49:50.656576Z",
     "shell.execute_reply": "2021-12-27T05:49:50.657169Z",
     "shell.execute_reply.started": "2021-12-27T05:46:42.385497Z"
    },
    "id": "qvCfBdLrq8jD",
    "outputId": "20d60480-ae58-46d8-9e39-fdcf0a0af6f3",
    "papermill": {
     "duration": 1.163612,
     "end_time": "2021-12-27T05:49:50.657373",
     "exception": false,
     "start_time": "2021-12-27T05:49:49.493761",
     "status": "completed"
    },
    "tags": []
   },
   "outputs": [
    {
     "data": {
      "text/plain": [
       "<AxesSubplot:xlabel='State'>"
      ]
     },
     "execution_count": 15,
     "metadata": {},
     "output_type": "execute_result"
    },
    {
     "data": {
      "image/png": "[encoded data removed]",
      "text/plain": [
       "<Figure size 1440x360 with 1 Axes>"
      ]
     },
     "metadata": {
      "needs_background": "light"
     },
     "output_type": "display_data"
    }
   ],
   "source": [
    "plt.figure(figsize=(20,5))\n",
    "crime.groupby('State')['Rape'].max().plot(kind='bar')"
   ]
  },
  {
   "cell_type": "markdown",
   "id": "426dcc6c",
   "metadata": {
    "id": "fB9dGmk0q8jD",
    "papermill": {
     "duration": 0.049309,
     "end_time": "2021-12-27T05:49:50.758124",
     "exception": false,
     "start_time": "2021-12-27T05:49:50.708815",
     "status": "completed"
    },
    "tags": []
   },
   "source": [
    "### Observations:\n",
    "\n",
    "* Highest UrbanPop Rate : Nevada and Alaska.\n",
    "* Lowest UrbanPop Rate  : Maine, North Dakota,Vermont,Connecticut,New Hampshire, Wisconsin,Rhode Island and West Virginia"
   ]
  },
  {
   "cell_type": "markdown",
   "id": "9b179e28",
   "metadata": {
    "id": "bEM3zHIyq8jE",
    "papermill": {
     "duration": 0.049151,
     "end_time": "2021-12-27T05:49:50.856793",
     "exception": false,
     "start_time": "2021-12-27T05:49:50.807642",
     "status": "completed"
    },
    "tags": []
   },
   "source": [
    "## 4) UrbanPop : Percent Urban Population"
   ]
  },
  {
   "cell_type": "code",
   "execution_count": 16,
   "id": "ac7c6e3e",
   "metadata": {
    "execution": {
     "iopub.execute_input": "2021-12-27T05:49:50.979519Z",
     "iopub.status.busy": "2021-12-27T05:49:50.974624Z",
     "iopub.status.idle": "2021-12-27T05:49:51.881535Z",
     "shell.execute_reply": "2021-12-27T05:49:51.882217Z",
     "shell.execute_reply.started": "2021-12-27T05:46:43.452679Z"
    },
    "id": "zBT7QINLq8jE",
    "outputId": "f1f5c75c-d255-40de-c9ab-c4a0e039d8e7",
    "papermill": {
     "duration": 0.976063,
     "end_time": "2021-12-27T05:49:51.882429",
     "exception": false,
     "start_time": "2021-12-27T05:49:50.906366",
     "status": "completed"
    },
    "tags": []
   },
   "outputs": [
    {
     "data": {
      "text/plain": [
       "<AxesSubplot:xlabel='State'>"
      ]
     },
     "execution_count": 16,
     "metadata": {},
     "output_type": "execute_result"
    },
    {
     "data": {
      "image/png": "[encoded data removed]",
      "text/plain": [
       "<Figure size 1440x360 with 1 Axes>"
      ]
     },
     "metadata": {
      "needs_background": "light"
     },
     "output_type": "display_data"
    }
   ],
   "source": [
    "plt.figure(figsize=(20,5))\n",
    "crime.groupby('State')['UrbanPop'].max().plot(kind='bar')"
   ]
  },
  {
   "cell_type": "code",
   "execution_count": 17,
   "id": "f04881fb",
   "metadata": {
    "execution": {
     "iopub.execute_input": "2021-12-27T05:49:51.992275Z",
     "iopub.status.busy": "2021-12-27T05:49:51.991209Z",
     "iopub.status.idle": "2021-12-27T05:49:51.995401Z",
     "shell.execute_reply": "2021-12-27T05:49:51.996059Z",
     "shell.execute_reply.started": "2021-12-27T05:46:44.357629Z"
    },
    "id": "KGKtJV99q8jQ",
    "papermill": {
     "duration": 0.060384,
     "end_time": "2021-12-27T05:49:51.996257",
     "exception": false,
     "start_time": "2021-12-27T05:49:51.935873",
     "status": "completed"
    },
    "tags": []
   },
   "outputs": [],
   "source": [
    "data = crime.iloc[:,1:].values"
   ]
  },
  {
   "cell_type": "code",
   "execution_count": 18,
   "id": "cdde5624",
   "metadata": {
    "execution": {
     "iopub.execute_input": "2021-12-27T05:49:52.104952Z",
     "iopub.status.busy": "2021-12-27T05:49:52.104138Z",
     "iopub.status.idle": "2021-12-27T05:49:52.108385Z",
     "shell.execute_reply": "2021-12-27T05:49:52.107900Z",
     "shell.execute_reply.started": "2021-12-27T05:46:44.364985Z"
    },
    "id": "GG4FYERiq8jQ",
    "papermill": {
     "duration": 0.061073,
     "end_time": "2021-12-27T05:49:52.108524",
     "exception": false,
     "start_time": "2021-12-27T05:49:52.047451",
     "status": "completed"
    },
    "tags": []
   },
   "outputs": [],
   "source": [
    "scaled_data = scaler.fit_transform(data)"
   ]
  },
  {
   "cell_type": "markdown",
   "id": "3f1a6bcc",
   "metadata": {
    "id": "hcLb1joNq8jR",
    "papermill": {
     "duration": 0.051421,
     "end_time": "2021-12-27T05:49:52.211054",
     "exception": false,
     "start_time": "2021-12-27T05:49:52.159633",
     "status": "completed"
    },
    "tags": []
   },
   "source": [
    "# Types of Linkages:"
   ]
  },
  {
   "cell_type": "markdown",
   "id": "e88aec2f",
   "metadata": {
    "id": "oYeXB_Omq8jR",
    "papermill": {
     "duration": 0.065147,
     "end_time": "2021-12-27T05:49:52.332175",
     "exception": false,
     "start_time": "2021-12-27T05:49:52.267028",
     "status": "completed"
    },
    "tags": []
   },
   "source": [
    "## 1) Single Leakage:\n",
    "\n",
    "The distance between 2 clusters is defined as the shortest distance between points in the two clusters"
   ]
  },
  {
   "cell_type": "code",
   "execution_count": 19,
   "id": "aca736eb",
   "metadata": {
    "execution": {
     "iopub.execute_input": "2021-12-27T05:49:52.448405Z",
     "iopub.status.busy": "2021-12-27T05:49:52.447415Z",
     "iopub.status.idle": "2021-12-27T05:49:53.809573Z",
     "shell.execute_reply": "2021-12-27T05:49:53.809076Z",
     "shell.execute_reply.started": "2021-12-27T05:46:44.379666Z"
    },
    "id": "m0b7BTXdq8jS",
    "outputId": "93a37162-e405-478f-99e4-6db0c07a881a",
    "papermill": {
     "duration": 1.418902,
     "end_time": "2021-12-27T05:49:53.809728",
     "exception": false,
     "start_time": "2021-12-27T05:49:52.390826",
     "status": "completed"
    },
    "tags": []
   },
   "outputs": [
    {
     "data": {
      "text/plain": [
       "Text(0, 0.5, 'Euclidean distances')"
      ]
     },
     "execution_count": 19,
     "metadata": {},
     "output_type": "execute_result"
    },
    {
     "data": {
      "image/png": "[encoded data removed]",
      "text/plain": [
       "<Figure size 1440x360 with 1 Axes>"
      ]
     },
     "metadata": {
      "needs_background": "light"
     },
     "output_type": "display_data"
    }
   ],
   "source": [
    "plt.figure(figsize=(20,5))\n",
    "plt.title(\"Crime Rate Dendograms\")\n",
    "dend = sch.dendrogram(sch.linkage(scaled_data, method='single'))\n",
    "plt.xlabel('Crime Rate')\n",
    "plt.ylabel('Euclidean distances')"
   ]
  },
  {
   "cell_type": "markdown",
   "id": "b7efb575",
   "metadata": {
    "id": "UkyQnJutq8jS",
    "papermill": {
     "duration": 0.052663,
     "end_time": "2021-12-27T05:49:53.914377",
     "exception": false,
     "start_time": "2021-12-27T05:49:53.861714",
     "status": "completed"
    },
    "tags": []
   },
   "source": [
    "The hierarchy class has a dendrogram method which takes the value returned by the linkage method of the same class. The linkage method takes the dataset and the method to minimize distances as parameters."
   ]
  },
  {
   "cell_type": "markdown",
   "id": "07a8e9f3",
   "metadata": {
    "id": "C58hXDY8q8jT",
    "papermill": {
     "duration": 0.051965,
     "end_time": "2021-12-27T05:49:54.018154",
     "exception": false,
     "start_time": "2021-12-27T05:49:53.966189",
     "status": "completed"
    },
    "tags": []
   },
   "source": [
    "## 2) Complete Linkage:\n",
    "\n",
    "The distance between 2 clusters is defined as the maximum distance between any 2 points in the clusters"
   ]
  },
  {
   "cell_type": "code",
   "execution_count": 20,
   "id": "474935a3",
   "metadata": {
    "execution": {
     "iopub.execute_input": "2021-12-27T05:49:54.150521Z",
     "iopub.status.busy": "2021-12-27T05:49:54.146735Z",
     "iopub.status.idle": "2021-12-27T05:49:55.483473Z",
     "shell.execute_reply": "2021-12-27T05:49:55.482939Z",
     "shell.execute_reply.started": "2021-12-27T05:46:45.727676Z"
    },
    "id": "5omqciOSq8jT",
    "outputId": "06d505ab-02af-4c18-e0d5-7db649a26452",
    "papermill": {
     "duration": 1.412958,
     "end_time": "2021-12-27T05:49:55.483631",
     "exception": false,
     "start_time": "2021-12-27T05:49:54.070673",
     "status": "completed"
    },
    "tags": []
   },
   "outputs": [
    {
     "data": {
      "text/plain": [
       "Text(0, 0.5, 'Euclidean distances')"
      ]
     },
     "execution_count": 20,
     "metadata": {},
     "output_type": "execute_result"
    },
    {
     "data": {
      "image/png": "[encoded data removed]",
      "text/plain": [
       "<Figure size 1440x360 with 1 Axes>"
      ]
     },
     "metadata": {
      "needs_background": "light"
     },
     "output_type": "display_data"
    }
   ],
   "source": [
    "plt.figure(figsize=(20,5))\n",
    "plt.title(\"Crime Rate Dendograms\")\n",
    "dend = sch.dendrogram(sch.linkage(scaled_data, method='complete'))\n",
    "plt.xlabel('Crime Rate')\n",
    "plt.ylabel('Euclidean distances')"
   ]
  },
  {
   "cell_type": "markdown",
   "id": "cce572f0",
   "metadata": {
    "id": "EIvT6OSnq8jW",
    "papermill": {
     "duration": 0.05255,
     "end_time": "2021-12-27T05:49:55.589831",
     "exception": false,
     "start_time": "2021-12-27T05:49:55.537281",
     "status": "completed"
    },
    "tags": []
   },
   "source": [
    "## 3) Average Linkage: \n",
    "    \n",
    "The distance between 2 clusters is defined as the average distance between every point of one cluster to every other point of the other cluster."
   ]
  },
  {
   "cell_type": "code",
   "execution_count": 21,
   "id": "35dc015a",
   "metadata": {
    "execution": {
     "iopub.execute_input": "2021-12-27T05:49:55.705360Z",
     "iopub.status.busy": "2021-12-27T05:49:55.704352Z",
     "iopub.status.idle": "2021-12-27T05:49:57.071051Z",
     "shell.execute_reply": "2021-12-27T05:49:57.070365Z",
     "shell.execute_reply.started": "2021-12-27T05:46:47.105332Z"
    },
    "id": "fsoYO4eHq8jW",
    "outputId": "3ef4ad09-c074-4064-cf54-b0e9f299c99d",
    "papermill": {
     "duration": 1.428358,
     "end_time": "2021-12-27T05:49:57.071220",
     "exception": false,
     "start_time": "2021-12-27T05:49:55.642862",
     "status": "completed"
    },
    "tags": []
   },
   "outputs": [
    {
     "data": {
      "text/plain": [
       "Text(0, 0.5, 'Euclidean distances')"
      ]
     },
     "execution_count": 21,
     "metadata": {},
     "output_type": "execute_result"
    },
    {
     "data": {
      "image/png": "[encoded data removed]",
      "text/plain": [
       "<Figure size 1440x360 with 1 Axes>"
      ]
     },
     "metadata": {
      "needs_background": "light"
     },
     "output_type": "display_data"
    }
   ],
   "source": [
    "plt.figure(figsize=(20,5))\n",
    "plt.title(\"Crime Rate Dendograms\")\n",
    "dend = sch.dendrogram(sch.linkage(scaled_data, method='average'))\n",
    "plt.xlabel('Crime Rate')\n",
    "plt.ylabel('Euclidean distances')"
   ]
  },
  {
   "cell_type": "markdown",
   "id": "7529cb53",
   "metadata": {
    "id": "aBzLUzLSq8jX",
    "papermill": {
     "duration": 0.054256,
     "end_time": "2021-12-27T05:49:57.180198",
     "exception": false,
     "start_time": "2021-12-27T05:49:57.125942",
     "status": "completed"
    },
    "tags": []
   },
   "source": [
    "The single linkage type will produce dendrograms which are not structured properly, whereas complete or average linkage will produce clusters which have a proper tree-like structure."
   ]
  },
  {
   "cell_type": "code",
   "execution_count": 22,
   "id": "763f36d9",
   "metadata": {
    "execution": {
     "iopub.execute_input": "2021-12-27T05:49:57.294666Z",
     "iopub.status.busy": "2021-12-27T05:49:57.293654Z",
     "iopub.status.idle": "2021-12-27T05:49:58.417451Z",
     "shell.execute_reply": "2021-12-27T05:49:58.416740Z",
     "shell.execute_reply.started": "2021-12-27T05:46:48.489181Z"
    },
    "id": "L_emqzBDq8jX",
    "outputId": "cf57b6fc-4fe0-44c5-a9a3-8d05c8a75177",
    "papermill": {
     "duration": 1.181458,
     "end_time": "2021-12-27T05:49:58.417658",
     "exception": false,
     "start_time": "2021-12-27T05:49:57.236200",
     "status": "completed"
    },
    "tags": []
   },
   "outputs": [
    {
     "data": {
      "image/png": "[encoded data removed]",
      "text/plain": [
       "<Figure size 1440x576 with 1 Axes>"
      ]
     },
     "metadata": {
      "needs_background": "light"
     },
     "output_type": "display_data"
    }
   ],
   "source": [
    "# With Ward method\n",
    "plt.figure(figsize=(20,8))\n",
    "dendrogram = sch.dendrogram(sch.linkage(data, method  = \"ward\"))\n",
    "plt.title('Dendrogram')\n",
    "plt.xlabel('Crime Rate')\n",
    "plt.ylabel('Euclidean distances')\n",
    "plt.show()"
   ]
  },
  {
   "cell_type": "markdown",
   "id": "09da775b",
   "metadata": {
    "id": "CYVopaJ7q8jY",
    "papermill": {
     "duration": 0.055922,
     "end_time": "2021-12-27T05:49:58.529854",
     "exception": false,
     "start_time": "2021-12-27T05:49:58.473932",
     "status": "completed"
    },
    "tags": []
   },
   "source": [
    "## How do we determine the optimal number of clusters from this diagram? \n",
    "\n",
    "We look for the largest distance that we can vertically without crossing any horizontal line and this one is the red framed line on the above diagram. Let’s count the number of lines on the diagram and determine the optimal number of clusters. Cluster number will be 3 for this dataset."
   ]
  },
  {
   "cell_type": "code",
   "execution_count": 23,
   "id": "9d48584d",
   "metadata": {
    "execution": {
     "iopub.execute_input": "2021-12-27T05:49:58.648083Z",
     "iopub.status.busy": "2021-12-27T05:49:58.647261Z",
     "iopub.status.idle": "2021-12-27T05:49:58.649394Z",
     "shell.execute_reply": "2021-12-27T05:49:58.648856Z",
     "shell.execute_reply.started": "2021-12-27T05:46:49.605720Z"
    },
    "id": "dlHYmfFBq8jZ",
    "papermill": {
     "duration": 0.063644,
     "end_time": "2021-12-27T05:49:58.649546",
     "exception": false,
     "start_time": "2021-12-27T05:49:58.585902",
     "status": "completed"
    },
    "tags": []
   },
   "outputs": [],
   "source": [
    "# Fit the Agglomerative Clustering\n",
    " \n",
    "AC = AgglomerativeClustering(n_clusters = 3, affinity = 'euclidean', linkage ='ward')"
   ]
  },
  {
   "cell_type": "markdown",
   "id": "faa31e2a",
   "metadata": {
    "id": "aySKP6nmq8ja",
    "papermill": {
     "duration": 0.055677,
     "end_time": "2021-12-27T05:49:58.761031",
     "exception": false,
     "start_time": "2021-12-27T05:49:58.705354",
     "status": "completed"
    },
    "tags": []
   },
   "source": [
    "### **Ward** method \n",
    "It is actually a method that tries to minimize the variance within each cluster. In K-means when we were trying to minimize the wcss to plot our elbow method chart, here it’s almost the same the only difference is that instead of minimizing wcss we are minimizing the within-cluster variants. That is the variance within each cluster."
   ]
  },
  {
   "cell_type": "code",
   "execution_count": 24,
   "id": "faf9760a",
   "metadata": {
    "execution": {
     "iopub.execute_input": "2021-12-27T05:49:58.881843Z",
     "iopub.status.busy": "2021-12-27T05:49:58.880068Z",
     "iopub.status.idle": "2021-12-27T05:49:58.888002Z",
     "shell.execute_reply": "2021-12-27T05:49:58.888735Z",
     "shell.execute_reply.started": "2021-12-27T05:46:49.612737Z"
    },
    "id": "RaCUe6nBq8ja",
    "outputId": "2dd3023c-02fe-47ea-a8a5-2c2782dc87eb",
    "papermill": {
     "duration": 0.072233,
     "end_time": "2021-12-27T05:49:58.888930",
     "exception": false,
     "start_time": "2021-12-27T05:49:58.816697",
     "status": "completed"
    },
    "tags": []
   },
   "outputs": [
    {
     "data": {
      "text/plain": [
       "array([1, 1, 1, 2, 1, 2, 0, 1, 1, 2, 0, 0, 1, 0, 0, 0, 0, 1, 0, 1, 2, 1,\n",
       "       0, 1, 2, 0, 0, 1, 0, 2, 1, 1, 1, 0, 0, 2, 2, 0, 2, 1, 0, 2, 2, 0,\n",
       "       0, 2, 2, 0, 0, 2])"
      ]
     },
     "execution_count": 24,
     "metadata": {},
     "output_type": "execute_result"
    }
   ],
   "source": [
    "# Fit and predict to have the cluster labels.\n",
    "y_pred =AC.fit_predict(data)\n",
    "y_pred"
   ]
  },
  {
   "cell_type": "code",
   "execution_count": 25,
   "id": "9c42af61",
   "metadata": {
    "execution": {
     "iopub.execute_input": "2021-12-27T05:49:59.006614Z",
     "iopub.status.busy": "2021-12-27T05:49:59.005955Z",
     "iopub.status.idle": "2021-12-27T05:49:59.010554Z",
     "shell.execute_reply": "2021-12-27T05:49:59.011127Z",
     "shell.execute_reply.started": "2021-12-27T05:46:49.630404Z"
    },
    "id": "ooKR8Ledq8jb",
    "papermill": {
     "duration": 0.064889,
     "end_time": "2021-12-27T05:49:59.011340",
     "exception": false,
     "start_time": "2021-12-27T05:49:58.946451",
     "status": "completed"
    },
    "tags": []
   },
   "outputs": [],
   "source": [
    "# Fetch the cluster labels\n",
    "crime['cluster labels']= y_pred"
   ]
  },
  {
   "cell_type": "code",
   "execution_count": 26,
   "id": "5e0f16e3",
   "metadata": {
    "execution": {
     "iopub.execute_input": "2021-12-27T05:49:59.128378Z",
     "iopub.status.busy": "2021-12-27T05:49:59.127695Z",
     "iopub.status.idle": "2021-12-27T05:49:59.143041Z",
     "shell.execute_reply": "2021-12-27T05:49:59.142365Z",
     "shell.execute_reply.started": "2021-12-27T05:46:49.640314Z"
    },
    "id": "3V39d_7hq8jc",
    "outputId": "6a528cf3-2cf5-4bec-854b-fd76ae9c6379",
    "papermill": {
     "duration": 0.074468,
     "end_time": "2021-12-27T05:49:59.143185",
     "exception": false,
     "start_time": "2021-12-27T05:49:59.068717",
     "status": "completed"
    },
    "tags": []
   },
   "outputs": [
    {
     "data": {
      "text/html": [
       "<div>\n",
       "<style scoped>\n",
       "    .dataframe tbody tr th:only-of-type {\n",
       "        vertical-align: middle;\n",
       "    }\n",
       "\n",
       "    .dataframe tbody tr th {\n",
       "        vertical-align: top;\n",
       "    }\n",
       "\n",
       "    .dataframe thead th {\n",
       "        text-align: right;\n",
       "    }\n",
       "</style>\n",
       "<table border=\"1\" class=\"dataframe\">\n",
       "  <thead>\n",
       "    <tr style=\"text-align: right;\">\n",
       "      <th></th>\n",
       "      <th>State</th>\n",
       "      <th>cluster labels</th>\n",
       "    </tr>\n",
       "  </thead>\n",
       "  <tbody>\n",
       "    <tr>\n",
       "      <th>0</th>\n",
       "      <td>Alabama</td>\n",
       "      <td>1</td>\n",
       "    </tr>\n",
       "    <tr>\n",
       "      <th>1</th>\n",
       "      <td>Alaska</td>\n",
       "      <td>1</td>\n",
       "    </tr>\n",
       "    <tr>\n",
       "      <th>2</th>\n",
       "      <td>Arizona</td>\n",
       "      <td>1</td>\n",
       "    </tr>\n",
       "    <tr>\n",
       "      <th>3</th>\n",
       "      <td>Arkansas</td>\n",
       "      <td>2</td>\n",
       "    </tr>\n",
       "    <tr>\n",
       "      <th>4</th>\n",
       "      <td>California</td>\n",
       "      <td>1</td>\n",
       "    </tr>\n",
       "    <tr>\n",
       "      <th>5</th>\n",
       "      <td>Colorado</td>\n",
       "      <td>2</td>\n",
       "    </tr>\n",
       "    <tr>\n",
       "      <th>6</th>\n",
       "      <td>Connecticut</td>\n",
       "      <td>0</td>\n",
       "    </tr>\n",
       "    <tr>\n",
       "      <th>7</th>\n",
       "      <td>Delaware</td>\n",
       "      <td>1</td>\n",
       "    </tr>\n",
       "    <tr>\n",
       "      <th>8</th>\n",
       "      <td>Florida</td>\n",
       "      <td>1</td>\n",
       "    </tr>\n",
       "    <tr>\n",
       "      <th>9</th>\n",
       "      <td>Georgia</td>\n",
       "      <td>2</td>\n",
       "    </tr>\n",
       "    <tr>\n",
       "      <th>10</th>\n",
       "      <td>Hawaii</td>\n",
       "      <td>0</td>\n",
       "    </tr>\n",
       "    <tr>\n",
       "      <th>11</th>\n",
       "      <td>Idaho</td>\n",
       "      <td>0</td>\n",
       "    </tr>\n",
       "    <tr>\n",
       "      <th>12</th>\n",
       "      <td>Illinois</td>\n",
       "      <td>1</td>\n",
       "    </tr>\n",
       "    <tr>\n",
       "      <th>13</th>\n",
       "      <td>Indiana</td>\n",
       "      <td>0</td>\n",
       "    </tr>\n",
       "    <tr>\n",
       "      <th>14</th>\n",
       "      <td>Iowa</td>\n",
       "      <td>0</td>\n",
       "    </tr>\n",
       "    <tr>\n",
       "      <th>15</th>\n",
       "      <td>Kansas</td>\n",
       "      <td>0</td>\n",
       "    </tr>\n",
       "    <tr>\n",
       "      <th>16</th>\n",
       "      <td>Kentucky</td>\n",
       "      <td>0</td>\n",
       "    </tr>\n",
       "    <tr>\n",
       "      <th>17</th>\n",
       "      <td>Louisiana</td>\n",
       "      <td>1</td>\n",
       "    </tr>\n",
       "    <tr>\n",
       "      <th>18</th>\n",
       "      <td>Maine</td>\n",
       "      <td>0</td>\n",
       "    </tr>\n",
       "    <tr>\n",
       "      <th>19</th>\n",
       "      <td>Maryland</td>\n",
       "      <td>1</td>\n",
       "    </tr>\n",
       "    <tr>\n",
       "      <th>20</th>\n",
       "      <td>Massachusetts</td>\n",
       "      <td>2</td>\n",
       "    </tr>\n",
       "    <tr>\n",
       "      <th>21</th>\n",
       "      <td>Michigan</td>\n",
       "      <td>1</td>\n",
       "    </tr>\n",
       "    <tr>\n",
       "      <th>22</th>\n",
       "      <td>Minnesota</td>\n",
       "      <td>0</td>\n",
       "    </tr>\n",
       "    <tr>\n",
       "      <th>23</th>\n",
       "      <td>Mississippi</td>\n",
       "      <td>1</td>\n",
       "    </tr>\n",
       "    <tr>\n",
       "      <th>24</th>\n",
       "      <td>Missouri</td>\n",
       "      <td>2</td>\n",
       "    </tr>\n",
       "    <tr>\n",
       "      <th>25</th>\n",
       "      <td>Montana</td>\n",
       "      <td>0</td>\n",
       "    </tr>\n",
       "    <tr>\n",
       "      <th>26</th>\n",
       "      <td>Nebraska</td>\n",
       "      <td>0</td>\n",
       "    </tr>\n",
       "    <tr>\n",
       "      <th>27</th>\n",
       "      <td>Nevada</td>\n",
       "      <td>1</td>\n",
       "    </tr>\n",
       "    <tr>\n",
       "      <th>28</th>\n",
       "      <td>New Hampshire</td>\n",
       "      <td>0</td>\n",
       "    </tr>\n",
       "    <tr>\n",
       "      <th>29</th>\n",
       "      <td>New Jersey</td>\n",
       "      <td>2</td>\n",
       "    </tr>\n",
       "    <tr>\n",
       "      <th>30</th>\n",
       "      <td>New Mexico</td>\n",
       "      <td>1</td>\n",
       "    </tr>\n",
       "    <tr>\n",
       "      <th>31</th>\n",
       "      <td>New York</td>\n",
       "      <td>1</td>\n",
       "    </tr>\n",
       "    <tr>\n",
       "      <th>32</th>\n",
       "      <td>North Carolina</td>\n",
       "      <td>1</td>\n",
       "    </tr>\n",
       "    <tr>\n",
       "      <th>33</th>\n",
       "      <td>North Dakota</td>\n",
       "      <td>0</td>\n",
       "    </tr>\n",
       "    <tr>\n",
       "      <th>34</th>\n",
       "      <td>Ohio</td>\n",
       "      <td>0</td>\n",
       "    </tr>\n",
       "    <tr>\n",
       "      <th>35</th>\n",
       "      <td>Oklahoma</td>\n",
       "      <td>2</td>\n",
       "    </tr>\n",
       "    <tr>\n",
       "      <th>36</th>\n",
       "      <td>Oregon</td>\n",
       "      <td>2</td>\n",
       "    </tr>\n",
       "    <tr>\n",
       "      <th>37</th>\n",
       "      <td>Pennsylvania</td>\n",
       "      <td>0</td>\n",
       "    </tr>\n",
       "    <tr>\n",
       "      <th>38</th>\n",
       "      <td>Rhode Island</td>\n",
       "      <td>2</td>\n",
       "    </tr>\n",
       "    <tr>\n",
       "      <th>39</th>\n",
       "      <td>South Carolina</td>\n",
       "      <td>1</td>\n",
       "    </tr>\n",
       "    <tr>\n",
       "      <th>40</th>\n",
       "      <td>South Dakota</td>\n",
       "      <td>0</td>\n",
       "    </tr>\n",
       "    <tr>\n",
       "      <th>41</th>\n",
       "      <td>Tennessee</td>\n",
       "      <td>2</td>\n",
       "    </tr>\n",
       "    <tr>\n",
       "      <th>42</th>\n",
       "      <td>Texas</td>\n",
       "      <td>2</td>\n",
       "    </tr>\n",
       "    <tr>\n",
       "      <th>43</th>\n",
       "      <td>Utah</td>\n",
       "      <td>0</td>\n",
       "    </tr>\n",
       "    <tr>\n",
       "      <th>44</th>\n",
       "      <td>Vermont</td>\n",
       "      <td>0</td>\n",
       "    </tr>\n",
       "    <tr>\n",
       "      <th>45</th>\n",
       "      <td>Virginia</td>\n",
       "      <td>2</td>\n",
       "    </tr>\n",
       "    <tr>\n",
       "      <th>46</th>\n",
       "      <td>Washington</td>\n",
       "      <td>2</td>\n",
       "    </tr>\n",
       "    <tr>\n",
       "      <th>47</th>\n",
       "      <td>West Virginia</td>\n",
       "      <td>0</td>\n",
       "    </tr>\n",
       "    <tr>\n",
       "      <th>48</th>\n",
       "      <td>Wisconsin</td>\n",
       "      <td>0</td>\n",
       "    </tr>\n",
       "    <tr>\n",
       "      <th>49</th>\n",
       "      <td>Wyoming</td>\n",
       "      <td>2</td>\n",
       "    </tr>\n",
       "  </tbody>\n",
       "</table>\n",
       "</div>"
      ],
      "text/plain": [
       "             State  cluster labels\n",
       "0          Alabama               1\n",
       "1           Alaska               1\n",
       "2          Arizona               1\n",
       "3         Arkansas               2\n",
       "4       California               1\n",
       "5         Colorado               2\n",
       "6      Connecticut               0\n",
       "7         Delaware               1\n",
       "8          Florida               1\n",
       "9          Georgia               2\n",
       "10          Hawaii               0\n",
       "11           Idaho               0\n",
       "12        Illinois               1\n",
       "13         Indiana               0\n",
       "14            Iowa               0\n",
       "15          Kansas               0\n",
       "16        Kentucky               0\n",
       "17       Louisiana               1\n",
       "18           Maine               0\n",
       "19        Maryland               1\n",
       "20   Massachusetts               2\n",
       "21        Michigan               1\n",
       "22       Minnesota               0\n",
       "23     Mississippi               1\n",
       "24        Missouri               2\n",
       "25         Montana               0\n",
       "26        Nebraska               0\n",
       "27          Nevada               1\n",
       "28   New Hampshire               0\n",
       "29      New Jersey               2\n",
       "30      New Mexico               1\n",
       "31        New York               1\n",
       "32  North Carolina               1\n",
       "33    North Dakota               0\n",
       "34            Ohio               0\n",
       "35        Oklahoma               2\n",
       "36          Oregon               2\n",
       "37    Pennsylvania               0\n",
       "38    Rhode Island               2\n",
       "39  South Carolina               1\n",
       "40    South Dakota               0\n",
       "41       Tennessee               2\n",
       "42           Texas               2\n",
       "43            Utah               0\n",
       "44         Vermont               0\n",
       "45        Virginia               2\n",
       "46      Washington               2\n",
       "47   West Virginia               0\n",
       "48       Wisconsin               0\n",
       "49         Wyoming               2"
      ]
     },
     "execution_count": 26,
     "metadata": {},
     "output_type": "execute_result"
    }
   ],
   "source": [
    "# Let's see which State falls in which cluster\n",
    "crime[['State','cluster labels']]"
   ]
  },
  {
   "cell_type": "code",
   "execution_count": 27,
   "id": "206b4672",
   "metadata": {
    "execution": {
     "iopub.execute_input": "2021-12-27T05:49:59.267466Z",
     "iopub.status.busy": "2021-12-27T05:49:59.266838Z",
     "iopub.status.idle": "2021-12-27T05:49:59.508123Z",
     "shell.execute_reply": "2021-12-27T05:49:59.508659Z",
     "shell.execute_reply.started": "2021-12-27T05:46:49.662052Z"
    },
    "id": "wA8k2XcNq8jc",
    "outputId": "e49900a8-3ebc-4db8-a391-656f19975dc7",
    "papermill": {
     "duration": 0.308709,
     "end_time": "2021-12-27T05:49:59.508880",
     "exception": false,
     "start_time": "2021-12-27T05:49:59.200171",
     "status": "completed"
    },
    "tags": []
   },
   "outputs": [
    {
     "data": {
      "text/plain": [
       "<AxesSubplot:xlabel='cluster labels', ylabel='Murder'>"
      ]
     },
     "execution_count": 27,
     "metadata": {},
     "output_type": "execute_result"
    },
    {
     "data": {
      "image/png": "[encoded data removed]",
      "text/plain": [
       "<Figure size 720x360 with 1 Axes>"
      ]
     },
     "metadata": {
      "needs_background": "light"
     },
     "output_type": "display_data"
    }
   ],
   "source": [
    "plt.figure(figsize=(10,5))\n",
    "sns.boxplot(x='cluster labels', y='Murder', data=crime)"
   ]
  },
  {
   "cell_type": "code",
   "execution_count": 28,
   "id": "166e310e",
   "metadata": {
    "execution": {
     "iopub.execute_input": "2021-12-27T05:49:59.644024Z",
     "iopub.status.busy": "2021-12-27T05:49:59.642281Z",
     "iopub.status.idle": "2021-12-27T05:49:59.867924Z",
     "shell.execute_reply": "2021-12-27T05:49:59.867373Z",
     "shell.execute_reply.started": "2021-12-27T05:46:49.908303Z"
    },
    "id": "l8XNfrX6q8jd",
    "outputId": "d9652bfd-bd98-4c6c-d50a-4c51e766bc5a",
    "papermill": {
     "duration": 0.300183,
     "end_time": "2021-12-27T05:49:59.868082",
     "exception": false,
     "start_time": "2021-12-27T05:49:59.567899",
     "status": "completed"
    },
    "tags": []
   },
   "outputs": [
    {
     "data": {
      "text/plain": [
       "<AxesSubplot:xlabel='cluster labels', ylabel='Rape'>"
      ]
     },
     "execution_count": 28,
     "metadata": {},
     "output_type": "execute_result"
    },
    {
     "data": {
      "image/png": "[encoded data removed]",
      "text/plain": [
       "<Figure size 720x360 with 1 Axes>"
      ]
     },
     "metadata": {
      "needs_background": "light"
     },
     "output_type": "display_data"
    }
   ],
   "source": [
    "plt.figure(figsize=(10,5))\n",
    "sns.boxplot(x='cluster labels', y='Rape', data=crime)"
   ]
  },
  {
   "cell_type": "code",
   "execution_count": 29,
   "id": "8c96afd0",
   "metadata": {
    "execution": {
     "iopub.execute_input": "2021-12-27T05:49:59.993039Z",
     "iopub.status.busy": "2021-12-27T05:49:59.992380Z",
     "iopub.status.idle": "2021-12-27T05:50:00.214203Z",
     "shell.execute_reply": "2021-12-27T05:50:00.214733Z",
     "shell.execute_reply.started": "2021-12-27T05:46:50.141343Z"
    },
    "id": "3h1pY8ATq8jd",
    "outputId": "a20cccd4-b486-425b-dd39-2c1f8f7bd53f",
    "papermill": {
     "duration": 0.287641,
     "end_time": "2021-12-27T05:50:00.214919",
     "exception": false,
     "start_time": "2021-12-27T05:49:59.927278",
     "status": "completed"
    },
    "tags": []
   },
   "outputs": [
    {
     "data": {
      "text/plain": [
       "<AxesSubplot:xlabel='cluster labels', ylabel='Assault'>"
      ]
     },
     "execution_count": 29,
     "metadata": {},
     "output_type": "execute_result"
    },
    {
     "data": {
      "image/png": "[encoded data removed]",
      "text/plain": [
       "<Figure size 720x360 with 1 Axes>"
      ]
     },
     "metadata": {
      "needs_background": "light"
     },
     "output_type": "display_data"
    }
   ],
   "source": [
    "plt.figure(figsize=(10,5))\n",
    "sns.boxplot(x='cluster labels', y='Assault', data=crime)"
   ]
  },
  {
   "cell_type": "markdown",
   "id": "3e918191",
   "metadata": {
    "id": "pwjzc6z8q8je",
    "papermill": {
     "duration": 0.059737,
     "end_time": "2021-12-27T05:50:00.335999",
     "exception": false,
     "start_time": "2021-12-27T05:50:00.276262",
     "status": "completed"
    },
    "tags": []
   },
   "source": [
    "## **Observations**:\n",
    "\n",
    "* The Cities in the Cluster-0 seems to be Safe-Zone where there are relativley less Murders,Assaults and Rapes.\n",
    "* The Cities in Cluster-1 seems to have higher crime rates and can be regarded as Danger-Zone.\n",
    "* The Cities in Cluster-3 seems to have moderate crime rates when compared to other zones and can be called as Moderate-Zone\n"
   ]
  },
  {
   "cell_type": "markdown",
   "id": "bc4612b1",
   "metadata": {
    "id": "tOCgd3VKmVk_",
    "papermill": {
     "duration": 0.059585,
     "end_time": "2021-12-27T05:50:00.455835",
     "exception": false,
     "start_time": "2021-12-27T05:50:00.396250",
     "status": "completed"
    },
    "tags": []
   },
   "source": [
    "Let's display the cities in each zone now!"
   ]
  },
  {
   "cell_type": "code",
   "execution_count": 30,
   "id": "03a02111",
   "metadata": {
    "execution": {
     "iopub.execute_input": "2021-12-27T05:50:00.578224Z",
     "iopub.status.busy": "2021-12-27T05:50:00.577624Z",
     "iopub.status.idle": "2021-12-27T05:50:00.584603Z",
     "shell.execute_reply": "2021-12-27T05:50:00.585092Z",
     "shell.execute_reply.started": "2021-12-27T05:46:50.375594Z"
    },
    "id": "7H1GN1Qnq8je",
    "outputId": "c383a29a-1c17-49e6-a286-acbefa4c770c",
    "papermill": {
     "duration": 0.069826,
     "end_time": "2021-12-27T05:50:00.585253",
     "exception": false,
     "start_time": "2021-12-27T05:50:00.515427",
     "status": "completed"
    },
    "tags": []
   },
   "outputs": [
    {
     "data": {
      "text/plain": [
       "array(['Connecticut', 'Hawaii', 'Idaho', 'Indiana', 'Iowa', 'Kansas',\n",
       "       'Kentucky', 'Maine', 'Minnesota', 'Montana', 'Nebraska',\n",
       "       'New Hampshire', 'North Dakota', 'Ohio', 'Pennsylvania',\n",
       "       'South Dakota', 'Utah', 'Vermont', 'West Virginia', 'Wisconsin'],\n",
       "      dtype=object)"
      ]
     },
     "execution_count": 30,
     "metadata": {},
     "output_type": "execute_result"
    }
   ],
   "source": [
    "Safe_Zone= crime.groupby('cluster labels')['State'].unique()[0]\n",
    "Safe_Zone"
   ]
  },
  {
   "cell_type": "code",
   "execution_count": 31,
   "id": "af509f6d",
   "metadata": {
    "execution": {
     "iopub.execute_input": "2021-12-27T05:50:00.711828Z",
     "iopub.status.busy": "2021-12-27T05:50:00.711137Z",
     "iopub.status.idle": "2021-12-27T05:50:00.715793Z",
     "shell.execute_reply": "2021-12-27T05:50:00.716399Z",
     "shell.execute_reply.started": "2021-12-27T05:46:50.387676Z"
    },
    "id": "DkgeEBm5q8jf",
    "outputId": "1e6d6df4-049d-4d45-d68a-0d934b121368",
    "papermill": {
     "duration": 0.071138,
     "end_time": "2021-12-27T05:50:00.716571",
     "exception": false,
     "start_time": "2021-12-27T05:50:00.645433",
     "status": "completed"
    },
    "tags": []
   },
   "outputs": [
    {
     "data": {
      "text/plain": [
       "array(['Alabama', 'Alaska', 'Arizona', 'California', 'Delaware',\n",
       "       'Florida', 'Illinois', 'Louisiana', 'Maryland', 'Michigan',\n",
       "       'Mississippi', 'Nevada', 'New Mexico', 'New York',\n",
       "       'North Carolina', 'South Carolina'], dtype=object)"
      ]
     },
     "execution_count": 31,
     "metadata": {},
     "output_type": "execute_result"
    }
   ],
   "source": [
    "Danger_Zone= crime.groupby('cluster labels')['State'].unique()[1]\n",
    "Danger_Zone"
   ]
  },
  {
   "cell_type": "code",
   "execution_count": 32,
   "id": "5a5c5be1",
   "metadata": {
    "execution": {
     "iopub.execute_input": "2021-12-27T05:50:00.842864Z",
     "iopub.status.busy": "2021-12-27T05:50:00.842151Z",
     "iopub.status.idle": "2021-12-27T05:50:00.849955Z",
     "shell.execute_reply": "2021-12-27T05:50:00.850497Z",
     "shell.execute_reply.started": "2021-12-27T05:46:50.402393Z"
    },
    "id": "BqSS3OKLq8jg",
    "outputId": "b5c1ed0a-b0ee-44dc-8352-928317950d17",
    "papermill": {
     "duration": 0.072639,
     "end_time": "2021-12-27T05:50:00.850788",
     "exception": false,
     "start_time": "2021-12-27T05:50:00.778149",
     "status": "completed"
    },
    "tags": []
   },
   "outputs": [
    {
     "data": {
      "text/plain": [
       "array(['Arkansas', 'Colorado', 'Georgia', 'Massachusetts', 'Missouri',\n",
       "       'New Jersey', 'Oklahoma', 'Oregon', 'Rhode Island', 'Tennessee',\n",
       "       'Texas', 'Virginia', 'Washington', 'Wyoming'], dtype=object)"
      ]
     },
     "execution_count": 32,
     "metadata": {},
     "output_type": "execute_result"
    }
   ],
   "source": [
    "Moderate_Zone= crime.groupby('cluster labels')['State'].unique()[2]\n",
    "Moderate_Zone"
   ]
  },
  {
   "cell_type": "markdown",
   "id": "1f957746",
   "metadata": {
    "id": "VZY5o6L7mb9x",
    "papermill": {
     "duration": 0.060689,
     "end_time": "2021-12-27T05:50:00.974958",
     "exception": false,
     "start_time": "2021-12-27T05:50:00.914269",
     "status": "completed"
    },
    "tags": []
   },
   "source": [
    "## Creating a scatter plot based on the danger level clusters of the cities\n",
    "\n",
    "\n"
   ]
  },
  {
   "cell_type": "code",
   "execution_count": 33,
   "id": "c2c364db",
   "metadata": {
    "execution": {
     "iopub.execute_input": "2021-12-27T05:50:01.107025Z",
     "iopub.status.busy": "2021-12-27T05:50:01.106270Z",
     "iopub.status.idle": "2021-12-27T05:50:01.384351Z",
     "shell.execute_reply": "2021-12-27T05:50:01.384855Z",
     "shell.execute_reply.started": "2021-12-27T05:46:50.417919Z"
    },
    "id": "r9L1o1Dzq8jg",
    "outputId": "5e057c14-9db6-4e56-add7-28a423cedcf9",
    "papermill": {
     "duration": 0.347676,
     "end_time": "2021-12-27T05:50:01.385021",
     "exception": false,
     "start_time": "2021-12-27T05:50:01.037345",
     "status": "completed"
    },
    "tags": []
   },
   "outputs": [
    {
     "data": {
      "image/png": "[encoded data removed]",
      "text/plain": [
       "<Figure size 720x360 with 1 Axes>"
      ]
     },
     "metadata": {
      "needs_background": "light"
     },
     "output_type": "display_data"
    }
   ],
   "source": [
    "plt.figure(figsize=(10,5))\n",
    "plt.scatter(data[y_pred==0, 0], data[y_pred==0, 1], s=100, c='red', label ='Safe_Zone')\n",
    "plt.scatter(data[y_pred==1, 0], data[y_pred==1, 1], s=100, c='blue', label ='Danger_Zone')\n",
    "plt.scatter(data[y_pred==2, 0], data[y_pred==2, 1], s=100, c='green', label ='Moderate_Zone')\n",
    "plt.legend()\n",
    "plt.show()"
   ]
  },
  {
   "cell_type": "markdown",
   "id": "67fc4daa",
   "metadata": {
    "id": "TlDwEXlMro5P",
    "papermill": {
     "duration": 0.061067,
     "end_time": "2021-12-27T05:50:01.507567",
     "exception": false,
     "start_time": "2021-12-27T05:50:01.446500",
     "status": "completed"
    },
    "tags": []
   },
   "source": [
    "# References\n",
    "https://www.kaggle.com/aishu2218/us-arrests-using-hierarchical-clustering-analysis "
   ]
  }
 ],
 "metadata": {
  "kernelspec": {
   "display_name": "Python 3",
   "language": "python",
   "name": "python3"
  },
  "language_info": {
   "codemirror_mode": {
    "name": "ipython",
    "version": 3
   },
   "file_extension": ".py",
   "mimetype": "text/x-python",
   "name": "python",
   "nbconvert_exporter": "python",
   "pygments_lexer": "ipython3",
   "version": "3.7.12"
  },
  "papermill": {
   "default_parameters": {},
   "duration": 30.22843,
   "end_time": "2021-12-27T05:50:02.581035",
   "environment_variables": {},
   "exception": null,
   "input_path": "__notebook__.ipynb",
   "output_path": "__notebook__.ipynb",
   "parameters": {},
   "start_time": "2021-12-27T05:49:32.352605",
   "version": "2.3.3"
  }
 },
 "nbformat": 4,
 "nbformat_minor": 5
}
